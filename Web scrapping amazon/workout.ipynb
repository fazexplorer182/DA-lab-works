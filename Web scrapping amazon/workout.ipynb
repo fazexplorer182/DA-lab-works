{
 "cells": [
  {
   "cell_type": "code",
   "execution_count": 4,
   "metadata": {},
   "outputs": [],
   "source": [
    "from autoscraper import AutoScraper"
   ]
  },
  {
   "cell_type": "code",
   "execution_count": 6,
   "metadata": {},
   "outputs": [],
   "source": [
    "amazon_url = \"https://www.amazon.in/s?k=iphone&ref=nb_sb_noss_2\"\n",
    "\n",
    "wanted_list = ['New Apple iPhone 11 (64GB) - Green','₹53,250','30,519']"
   ]
  },
  {
   "cell_type": "code",
   "execution_count": 7,
   "metadata": {},
   "outputs": [
    {
     "name": "stdout",
     "output_type": "stream",
     "text": [
      "['Apple iPhone 7 (32GB) - Black', 'New Apple iPhone 12 (64GB) - White', 'New Apple iPhone 12 Mini (64GB) - Blue', 'New Apple iPhone 11 (64GB) - Green', 'New Apple iPhone 12 Mini (128GB) - White', 'New Apple iPhone 12 Mini (64GB) - Green', 'New Apple iPhone 12 Pro Max (128GB) - Pacific Blue', 'New Apple iPhone 12 Mini (64GB) - (Product) RED', 'New Apple iPhone 12 (64GB) - Black', 'New Apple iPhone 12 (128GB) - Blue', 'New Apple iPhone 12 Mini (128GB) - Black', 'New Apple iPhone 12 Pro (128GB) - Pacific Blue', 'New Apple iPhone 12 (64GB) - Green', 'New Apple iPhone 12 (128GB) - Black', 'New Apple iPhone 12 Mini (64GB) - Purple', 'OnePlus Nord 5G (Blue Marble, 12GB RAM, 256GB Storage)', '₹25,990', '₹29,900', '₹70,900', '₹79,900', '₹63,900', '₹69,900', '₹53,250', '₹54,900', '₹68,900', '₹74,900', '₹62,999', '₹1,24,700', '₹1,29,900', '₹71,900', '₹80,230', '₹84,900', '₹68,500', '₹1,15,100', '₹1,19,900', '₹79,899', '9,345', '3,439', '4,261', '30,519', '753', '321', '82,608']\n"
     ]
    }
   ],
   "source": [
    "scraper = AutoScraper()\n",
    "result = scraper.build(amazon_url,wanted_list)\n",
    "print(result)"
   ]
  },
  {
   "cell_type": "code",
   "execution_count": 8,
   "metadata": {},
   "outputs": [
    {
     "data": {
      "text/plain": [
       "{'rule_iagt': ['Apple iPhone 7 (32GB) - Black',\n",
       "  'New Apple iPhone 11 (64GB) - Green',\n",
       "  'New Apple iPhone 12 (64GB) - White',\n",
       "  'New Apple iPhone 12 Mini (128GB) - White',\n",
       "  'New Apple iPhone 12 Mini (64GB) - Blue',\n",
       "  'New Apple iPhone 11 (256GB) - White',\n",
       "  'New Apple iPhone 12 (64GB) - Black',\n",
       "  'New Apple iPhone 12 (128GB) - Blue',\n",
       "  'New Apple iPhone 12 Pro Max (128GB) - Pacific Blue',\n",
       "  'New Apple iPhone 11 (256GB) - Black',\n",
       "  'New Apple iPhone 12 Mini (64GB) - Green',\n",
       "  'New Apple iPhone 12 (128GB) - Purple',\n",
       "  'New Apple iPhone 12 Mini (64GB) - (Product) RED',\n",
       "  'New Apple iPhone 12 (128GB) - Black',\n",
       "  'New Apple iPhone 12 Mini (128GB) - Black',\n",
       "  'New Apple iPhone 12 (64GB) - Blue'],\n",
       " 'rule_cs2g': ['Apple iPhone 7 (32GB) - Black',\n",
       "  'New Apple iPhone 11 (64GB) - Green',\n",
       "  'New Apple iPhone 12 (64GB) - White',\n",
       "  'New Apple iPhone 12 Mini (128GB) - White',\n",
       "  'New Apple iPhone 12 Mini (64GB) - Blue',\n",
       "  'New Apple iPhone 11 (256GB) - White',\n",
       "  'New Apple iPhone 12 (64GB) - Black',\n",
       "  'New Apple iPhone 12 (128GB) - Blue',\n",
       "  'New Apple iPhone 12 Pro Max (128GB) - Pacific Blue',\n",
       "  'New Apple iPhone 11 (256GB) - Black',\n",
       "  'New Apple iPhone 12 Mini (64GB) - Green',\n",
       "  'New Apple iPhone 12 (128GB) - Purple',\n",
       "  'New Apple iPhone 12 Mini (64GB) - (Product) RED',\n",
       "  'New Apple iPhone 12 (128GB) - Black',\n",
       "  'New Apple iPhone 12 Mini (128GB) - Black',\n",
       "  'New Apple iPhone 12 (64GB) - Blue'],\n",
       " 'rule_l18w': ['₹25,990',\n",
       "  '₹29,900',\n",
       "  '₹53,250',\n",
       "  '₹54,900',\n",
       "  '₹70,900',\n",
       "  '₹79,900',\n",
       "  '₹68,900',\n",
       "  '₹74,900',\n",
       "  '₹63,900',\n",
       "  '₹69,900',\n",
       "  '₹69,900',\n",
       "  '₹71,900',\n",
       "  '₹79,900',\n",
       "  '₹80,230',\n",
       "  '₹84,900',\n",
       "  '₹1,24,700',\n",
       "  '₹1,29,900',\n",
       "  '₹69,900',\n",
       "  '₹62,999',\n",
       "  '₹69,900',\n",
       "  '₹80,499',\n",
       "  '₹84,900',\n",
       "  '₹62,999',\n",
       "  '₹69,900',\n",
       "  '₹79,899',\n",
       "  '₹84,900',\n",
       "  '₹68,500',\n",
       "  '₹74,900',\n",
       "  '₹72,900',\n",
       "  '₹79,900'],\n",
       " 'rule_mfca': ['₹25,990',\n",
       "  '₹29,900',\n",
       "  '₹53,250',\n",
       "  '₹54,900',\n",
       "  '₹70,900',\n",
       "  '₹79,900',\n",
       "  '₹68,900',\n",
       "  '₹74,900',\n",
       "  '₹63,900',\n",
       "  '₹69,900',\n",
       "  '₹69,900',\n",
       "  '₹71,900',\n",
       "  '₹79,900',\n",
       "  '₹80,230',\n",
       "  '₹84,900',\n",
       "  '₹1,24,700',\n",
       "  '₹1,29,900',\n",
       "  '₹69,900',\n",
       "  '₹62,999',\n",
       "  '₹69,900',\n",
       "  '₹80,499',\n",
       "  '₹84,900',\n",
       "  '₹62,999',\n",
       "  '₹69,900',\n",
       "  '₹79,899',\n",
       "  '₹84,900',\n",
       "  '₹68,500',\n",
       "  '₹74,900',\n",
       "  '₹72,900',\n",
       "  '₹79,900'],\n",
       " 'rule_udim': ['9,345',\n",
       "  '30,519',\n",
       "  '3,440',\n",
       "  '4,261',\n",
       "  '4,261',\n",
       "  '30,519',\n",
       "  '3,439',\n",
       "  '3,440',\n",
       "  '753',\n",
       "  '30,519',\n",
       "  '4,261',\n",
       "  '3,440',\n",
       "  '4,261',\n",
       "  '3,439',\n",
       "  '4,261',\n",
       "  '3,439']}"
      ]
     },
     "execution_count": 8,
     "metadata": {},
     "output_type": "execute_result"
    }
   ],
   "source": [
    "scraper.get_result_similar(amazon_url,grouped=True)"
   ]
  },
  {
   "cell_type": "code",
   "execution_count": 10,
   "metadata": {},
   "outputs": [],
   "source": [
    "scraper.set_rule_aliases({'rule_iagt':'Name of the Phone','rule_l18w':'Price'})\n",
    "scraper.keep_rules(['rule_iagt','rule_l18w'])\n",
    "scraper.save('amazon_search')"
   ]
  },
  {
   "cell_type": "code",
   "execution_count": 11,
   "metadata": {},
   "outputs": [],
   "source": [
    "result = scraper.get_result_similar('https://www.amazon.in/s?k=honor+phones&crid=1OARSYIWXCZIG&sprefix=honor+phone%2Caps%2C316&ref=nb_sb_ss_ts-doa-p_1_11',group_by_alias=True)"
   ]
  },
  {
   "cell_type": "code",
   "execution_count": 12,
   "metadata": {},
   "outputs": [
    {
     "data": {
      "text/plain": [
       "{'Name of the Phone': ['Honor 9N (Black, 4GB RAM, 64GB Storage)',\n",
       "  'Samsung Galaxy Note 10 (Aura Black, 8GB RAM, 256GB Storage) with No Cost EMI/Additional Exchange Offers',\n",
       "  'Redmi 9A (Sea Blue 2GB RAM 32GB Storage) | 2GHz Octa-core Helio G25 Processor | 5000 mAh Battery',\n",
       "  'Samsung Galaxy M12 (Black,4GB RAM, 64GB Storage) 6000 mAh with 8nm Processor | True 48 MP Quad Camera | 90Hz Refresh Rate',\n",
       "  'Samsung Galaxy M12 (White,4GB RAM, 64GB Storage) 6000 mAh with 8nm Processor | True 48 MP Quad Camera | 90Hz Refresh Rate',\n",
       "  'Coolpad Cool 6 (Silver,6GB RAM,128GB Storage) -21MP Front Pop-up & 48MP Triple Rear Camera',\n",
       "  \"iQOO Z3 5G (Ace Black, 6GB RAM, 128GB Storage) | India's First SD 768G 5G Processor | 55W FlashCharge | 6 Months NC-EMI | 100% Refund Guarantee\",\n",
       "  'Nokia C3 Android 10 Smartphone with 2GB RAM 16GB Storage, All-Day Battery and Fingerprint Sensor – Nordic Blue',\n",
       "  'OPPO A31 (Fantasy White, 4GB RAM, 64GB Storage) with No Cost EMI/Additional Exchange Offers',\n",
       "  'Mi 11X 5G Celestial Silver 6GB RAM 128GB ROM | SD 870 | DisplayMate A+ rated E4 AMOLED | Upto 2000 Additional Exchange',\n",
       "  'Vivo Y51A (Titanium Sapphire, 8GB, 128GB Storage) with No Cost EMI/Additional Exchange Offers',\n",
       "  'OPPO A11K (Flowing Silver, 2GB RAM, 32GB Storage) With No Cost EMI/Additional Exchange Offers',\n",
       "  'OPPO A31 (Mystery Black, 4GB RAM, 64GB Storage) with No Cost EMI/Additional Exchange Offers',\n",
       "  \"itel A47 (Ice Lake Blue, 2GB RAM, 32GB Storage, 5.5'' HD+ IPS Display)\",\n",
       "  'HUAWEI Y9s (Breathing Crystal, 6GB RAM, 128GB Storage, Ultra FullView Display, 48MP AI Triple Camera, Side-Mounted Fingerprint, 4000mAH Powerfull Battery, Kirin 710F, Android Based EMUI 9.1)',\n",
       "  'Lava Z6 Flame Red, 6GB RAM, 64GB Storage, Regular'],\n",
       " 'Price': ['₹73,600',\n",
       "  '₹75,000',\n",
       "  '₹6,799',\n",
       "  '₹8,499',\n",
       "  '₹10,999',\n",
       "  '₹12,999',\n",
       "  '₹10,999',\n",
       "  '₹12,999',\n",
       "  '₹11,999',\n",
       "  '₹16,999',\n",
       "  '₹19,990',\n",
       "  '₹22,990',\n",
       "  '₹6,699',\n",
       "  '₹8,499',\n",
       "  '₹10,990',\n",
       "  '₹12,990',\n",
       "  '₹29,999',\n",
       "  '₹33,999',\n",
       "  '₹17,990',\n",
       "  '₹21,990',\n",
       "  '₹8,490',\n",
       "  '₹10,990',\n",
       "  '₹10,990',\n",
       "  '₹12,990',\n",
       "  '₹5,499',\n",
       "  '₹6,499',\n",
       "  '₹20,499',\n",
       "  '₹27,990',\n",
       "  '₹10,299',\n",
       "  '₹10,999']}"
      ]
     },
     "execution_count": 12,
     "metadata": {},
     "output_type": "execute_result"
    }
   ],
   "source": [
    "result"
   ]
  }
 ],
 "metadata": {
  "kernelspec": {
   "display_name": "Python 3",
   "language": "python",
   "name": "python3"
  },
  "language_info": {
   "codemirror_mode": {
    "name": "ipython",
    "version": 3
   },
   "file_extension": ".py",
   "mimetype": "text/x-python",
   "name": "python",
   "nbconvert_exporter": "python",
   "pygments_lexer": "ipython3",
   "version": "3.8.5"
  }
 },
 "nbformat": 4,
 "nbformat_minor": 4
}
