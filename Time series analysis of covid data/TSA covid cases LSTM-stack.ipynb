{
 "cells": [
  {
   "cell_type": "markdown",
   "metadata": {},
   "source": [
    "# Import the libraries "
   ]
  },
  {
   "cell_type": "code",
   "execution_count": 1,
   "metadata": {},
   "outputs": [],
   "source": [
    "import pandas as pd\n",
    "import numpy as np\n",
    "import matplotlib.pyplot as plt\n",
    "#plt.style.use('fivethirtyeight')\n",
    "import warnings\n",
    "warnings.filterwarnings('ignore')\n",
    "import statsmodels.api as sm"
   ]
  },
  {
   "cell_type": "markdown",
   "metadata": {},
   "source": [
    "# Import the dataset"
   ]
  },
  {
   "cell_type": "code",
   "execution_count": 2,
   "metadata": {},
   "outputs": [
    {
     "data": {
      "text/html": [
       "<div>\n",
       "<style scoped>\n",
       "    .dataframe tbody tr th:only-of-type {\n",
       "        vertical-align: middle;\n",
       "    }\n",
       "\n",
       "    .dataframe tbody tr th {\n",
       "        vertical-align: top;\n",
       "    }\n",
       "\n",
       "    .dataframe thead th {\n",
       "        text-align: right;\n",
       "    }\n",
       "</style>\n",
       "<table border=\"1\" class=\"dataframe\">\n",
       "  <thead>\n",
       "    <tr style=\"text-align: right;\">\n",
       "      <th></th>\n",
       "      <th>PEOPLE_POSITIVE_CASES_COUNT</th>\n",
       "      <th>COUNTY_NAME</th>\n",
       "      <th>PROVINCE_STATE_NAME</th>\n",
       "      <th>REPORT_DATE</th>\n",
       "      <th>CONTINENT_NAME</th>\n",
       "      <th>DATA_SOURCE_NAME</th>\n",
       "      <th>PEOPLE_DEATH_NEW_COUNT</th>\n",
       "      <th>COUNTY_FIPS_NUMBER</th>\n",
       "      <th>COUNTRY_ALPHA_3_CODE</th>\n",
       "      <th>COUNTRY_SHORT_NAME</th>\n",
       "      <th>COUNTRY_ALPHA_2_CODE</th>\n",
       "      <th>PEOPLE_POSITIVE_NEW_CASES_COUNT</th>\n",
       "      <th>PEOPLE_DEATH_COUNT</th>\n",
       "    </tr>\n",
       "  </thead>\n",
       "  <tbody>\n",
       "    <tr>\n",
       "      <th>0</th>\n",
       "      <td>7844</td>\n",
       "      <td>Oneida</td>\n",
       "      <td>New York</td>\n",
       "      <td>2020-12-13</td>\n",
       "      <td>America</td>\n",
       "      <td>New York Times</td>\n",
       "      <td>1</td>\n",
       "      <td>36065.0</td>\n",
       "      <td>USA</td>\n",
       "      <td>United States</td>\n",
       "      <td>US</td>\n",
       "      <td>237</td>\n",
       "      <td>188</td>\n",
       "    </tr>\n",
       "    <tr>\n",
       "      <th>1</th>\n",
       "      <td>1830</td>\n",
       "      <td>Oneida</td>\n",
       "      <td>New York</td>\n",
       "      <td>2020-07-13</td>\n",
       "      <td>America</td>\n",
       "      <td>New York Times</td>\n",
       "      <td>3</td>\n",
       "      <td>36065.0</td>\n",
       "      <td>USA</td>\n",
       "      <td>United States</td>\n",
       "      <td>US</td>\n",
       "      <td>7</td>\n",
       "      <td>104</td>\n",
       "    </tr>\n",
       "    <tr>\n",
       "      <th>2</th>\n",
       "      <td>1776</td>\n",
       "      <td>Oneida</td>\n",
       "      <td>New York</td>\n",
       "      <td>2020-07-08</td>\n",
       "      <td>America</td>\n",
       "      <td>New York Times</td>\n",
       "      <td>1</td>\n",
       "      <td>36065.0</td>\n",
       "      <td>USA</td>\n",
       "      <td>United States</td>\n",
       "      <td>US</td>\n",
       "      <td>16</td>\n",
       "      <td>99</td>\n",
       "    </tr>\n",
       "    <tr>\n",
       "      <th>3</th>\n",
       "      <td>19215</td>\n",
       "      <td>Oneida</td>\n",
       "      <td>New York</td>\n",
       "      <td>2021-02-16</td>\n",
       "      <td>America</td>\n",
       "      <td>New York Times</td>\n",
       "      <td>2</td>\n",
       "      <td>36065.0</td>\n",
       "      <td>USA</td>\n",
       "      <td>United States</td>\n",
       "      <td>US</td>\n",
       "      <td>29</td>\n",
       "      <td>462</td>\n",
       "    </tr>\n",
       "    <tr>\n",
       "      <th>4</th>\n",
       "      <td>676</td>\n",
       "      <td>Oneida</td>\n",
       "      <td>New York</td>\n",
       "      <td>2020-05-12</td>\n",
       "      <td>America</td>\n",
       "      <td>New York Times</td>\n",
       "      <td>1</td>\n",
       "      <td>36065.0</td>\n",
       "      <td>USA</td>\n",
       "      <td>United States</td>\n",
       "      <td>US</td>\n",
       "      <td>7</td>\n",
       "      <td>26</td>\n",
       "    </tr>\n",
       "    <tr>\n",
       "      <th>...</th>\n",
       "      <td>...</td>\n",
       "      <td>...</td>\n",
       "      <td>...</td>\n",
       "      <td>...</td>\n",
       "      <td>...</td>\n",
       "      <td>...</td>\n",
       "      <td>...</td>\n",
       "      <td>...</td>\n",
       "      <td>...</td>\n",
       "      <td>...</td>\n",
       "      <td>...</td>\n",
       "      <td>...</td>\n",
       "      <td>...</td>\n",
       "    </tr>\n",
       "    <tr>\n",
       "      <th>1634240</th>\n",
       "      <td>0</td>\n",
       "      <td>NaN</td>\n",
       "      <td>NaN</td>\n",
       "      <td>2020-01-21</td>\n",
       "      <td>America</td>\n",
       "      <td>JHU CSSE Global Timeseries</td>\n",
       "      <td>0</td>\n",
       "      <td>NaN</td>\n",
       "      <td>MAF</td>\n",
       "      <td>St Martin</td>\n",
       "      <td>MF</td>\n",
       "      <td>0</td>\n",
       "      <td>0</td>\n",
       "    </tr>\n",
       "    <tr>\n",
       "      <th>1634241</th>\n",
       "      <td>0</td>\n",
       "      <td>NaN</td>\n",
       "      <td>Macau</td>\n",
       "      <td>2020-01-21</td>\n",
       "      <td>Asia</td>\n",
       "      <td>JHU CSSE Global Timeseries</td>\n",
       "      <td>0</td>\n",
       "      <td>NaN</td>\n",
       "      <td>CHN</td>\n",
       "      <td>China</td>\n",
       "      <td>CN</td>\n",
       "      <td>0</td>\n",
       "      <td>0</td>\n",
       "    </tr>\n",
       "    <tr>\n",
       "      <th>1634242</th>\n",
       "      <td>0</td>\n",
       "      <td>NaN</td>\n",
       "      <td>NaN</td>\n",
       "      <td>2020-01-21</td>\n",
       "      <td>America</td>\n",
       "      <td>JHU CSSE Global Timeseries</td>\n",
       "      <td>0</td>\n",
       "      <td>NaN</td>\n",
       "      <td>BRB</td>\n",
       "      <td>Barbados</td>\n",
       "      <td>BB</td>\n",
       "      <td>0</td>\n",
       "      <td>0</td>\n",
       "    </tr>\n",
       "    <tr>\n",
       "      <th>1634243</th>\n",
       "      <td>0</td>\n",
       "      <td>NaN</td>\n",
       "      <td>NaN</td>\n",
       "      <td>2020-01-21</td>\n",
       "      <td>Europe</td>\n",
       "      <td>JHU CSSE Global Timeseries</td>\n",
       "      <td>0</td>\n",
       "      <td>NaN</td>\n",
       "      <td>RUS</td>\n",
       "      <td>Russia</td>\n",
       "      <td>RU</td>\n",
       "      <td>0</td>\n",
       "      <td>0</td>\n",
       "    </tr>\n",
       "    <tr>\n",
       "      <th>1634244</th>\n",
       "      <td>0</td>\n",
       "      <td>NaN</td>\n",
       "      <td>NaN</td>\n",
       "      <td>2020-01-21</td>\n",
       "      <td>Africa</td>\n",
       "      <td>JHU CSSE Global Timeseries</td>\n",
       "      <td>0</td>\n",
       "      <td>NaN</td>\n",
       "      <td>NER</td>\n",
       "      <td>Niger</td>\n",
       "      <td>NE</td>\n",
       "      <td>0</td>\n",
       "      <td>0</td>\n",
       "    </tr>\n",
       "  </tbody>\n",
       "</table>\n",
       "<p>1634245 rows × 13 columns</p>\n",
       "</div>"
      ],
      "text/plain": [
       "         PEOPLE_POSITIVE_CASES_COUNT COUNTY_NAME PROVINCE_STATE_NAME  \\\n",
       "0                               7844      Oneida            New York   \n",
       "1                               1830      Oneida            New York   \n",
       "2                               1776      Oneida            New York   \n",
       "3                              19215      Oneida            New York   \n",
       "4                                676      Oneida            New York   \n",
       "...                              ...         ...                 ...   \n",
       "1634240                            0         NaN                 NaN   \n",
       "1634241                            0         NaN               Macau   \n",
       "1634242                            0         NaN                 NaN   \n",
       "1634243                            0         NaN                 NaN   \n",
       "1634244                            0         NaN                 NaN   \n",
       "\n",
       "        REPORT_DATE CONTINENT_NAME            DATA_SOURCE_NAME  \\\n",
       "0        2020-12-13        America              New York Times   \n",
       "1        2020-07-13        America              New York Times   \n",
       "2        2020-07-08        America              New York Times   \n",
       "3        2021-02-16        America              New York Times   \n",
       "4        2020-05-12        America              New York Times   \n",
       "...             ...            ...                         ...   \n",
       "1634240  2020-01-21        America  JHU CSSE Global Timeseries   \n",
       "1634241  2020-01-21           Asia  JHU CSSE Global Timeseries   \n",
       "1634242  2020-01-21        America  JHU CSSE Global Timeseries   \n",
       "1634243  2020-01-21         Europe  JHU CSSE Global Timeseries   \n",
       "1634244  2020-01-21         Africa  JHU CSSE Global Timeseries   \n",
       "\n",
       "         PEOPLE_DEATH_NEW_COUNT  COUNTY_FIPS_NUMBER COUNTRY_ALPHA_3_CODE  \\\n",
       "0                             1             36065.0                  USA   \n",
       "1                             3             36065.0                  USA   \n",
       "2                             1             36065.0                  USA   \n",
       "3                             2             36065.0                  USA   \n",
       "4                             1             36065.0                  USA   \n",
       "...                         ...                 ...                  ...   \n",
       "1634240                       0                 NaN                  MAF   \n",
       "1634241                       0                 NaN                  CHN   \n",
       "1634242                       0                 NaN                  BRB   \n",
       "1634243                       0                 NaN                  RUS   \n",
       "1634244                       0                 NaN                  NER   \n",
       "\n",
       "        COUNTRY_SHORT_NAME COUNTRY_ALPHA_2_CODE  \\\n",
       "0            United States                   US   \n",
       "1            United States                   US   \n",
       "2            United States                   US   \n",
       "3            United States                   US   \n",
       "4            United States                   US   \n",
       "...                    ...                  ...   \n",
       "1634240          St Martin                   MF   \n",
       "1634241              China                   CN   \n",
       "1634242           Barbados                   BB   \n",
       "1634243             Russia                   RU   \n",
       "1634244              Niger                   NE   \n",
       "\n",
       "         PEOPLE_POSITIVE_NEW_CASES_COUNT  PEOPLE_DEATH_COUNT  \n",
       "0                                    237                 188  \n",
       "1                                      7                 104  \n",
       "2                                     16                  99  \n",
       "3                                     29                 462  \n",
       "4                                      7                  26  \n",
       "...                                  ...                 ...  \n",
       "1634240                                0                   0  \n",
       "1634241                                0                   0  \n",
       "1634242                                0                   0  \n",
       "1634243                                0                   0  \n",
       "1634244                                0                   0  \n",
       "\n",
       "[1634245 rows x 13 columns]"
      ]
     },
     "execution_count": 2,
     "metadata": {},
     "output_type": "execute_result"
    }
   ],
   "source": [
    "df = pd.read_csv('cov_tsa.csv',parse_dates=['REPORT_DATE'])\n",
    "df"
   ]
  },
  {
   "cell_type": "markdown",
   "metadata": {},
   "source": [
    "### Check for missing data"
   ]
  },
  {
   "cell_type": "code",
   "execution_count": 3,
   "metadata": {},
   "outputs": [
    {
     "data": {
      "text/plain": [
       "PEOPLE_POSITIVE_CASES_COUNT             0\n",
       "COUNTY_NAME                        124931\n",
       "PROVINCE_STATE_NAME                 98654\n",
       "REPORT_DATE                             0\n",
       "CONTINENT_NAME                       1844\n",
       "DATA_SOURCE_NAME                        0\n",
       "PEOPLE_DEATH_NEW_COUNT                  0\n",
       "COUNTY_FIPS_NUMBER                 150747\n",
       "COUNTRY_ALPHA_3_CODE                 1844\n",
       "COUNTRY_SHORT_NAME                      0\n",
       "COUNTRY_ALPHA_2_CODE                 2305\n",
       "PEOPLE_POSITIVE_NEW_CASES_COUNT         0\n",
       "PEOPLE_DEATH_COUNT                      0\n",
       "dtype: int64"
      ]
     },
     "execution_count": 3,
     "metadata": {},
     "output_type": "execute_result"
    }
   ],
   "source": [
    "df.isna().sum()"
   ]
  },
  {
   "cell_type": "markdown",
   "metadata": {},
   "source": [
    "###### Remove unwanted columns"
   ]
  },
  {
   "cell_type": "code",
   "execution_count": 4,
   "metadata": {},
   "outputs": [
    {
     "data": {
      "text/html": [
       "<div>\n",
       "<style scoped>\n",
       "    .dataframe tbody tr th:only-of-type {\n",
       "        vertical-align: middle;\n",
       "    }\n",
       "\n",
       "    .dataframe tbody tr th {\n",
       "        vertical-align: top;\n",
       "    }\n",
       "\n",
       "    .dataframe thead th {\n",
       "        text-align: right;\n",
       "    }\n",
       "</style>\n",
       "<table border=\"1\" class=\"dataframe\">\n",
       "  <thead>\n",
       "    <tr style=\"text-align: right;\">\n",
       "      <th></th>\n",
       "      <th>REPORT_DATE</th>\n",
       "      <th>PEOPLE_DEATH_NEW_COUNT</th>\n",
       "      <th>COUNTRY_SHORT_NAME</th>\n",
       "      <th>PEOPLE_POSITIVE_NEW_CASES_COUNT</th>\n",
       "    </tr>\n",
       "  </thead>\n",
       "  <tbody>\n",
       "    <tr>\n",
       "      <th>0</th>\n",
       "      <td>2020-12-13</td>\n",
       "      <td>1</td>\n",
       "      <td>United States</td>\n",
       "      <td>237</td>\n",
       "    </tr>\n",
       "    <tr>\n",
       "      <th>1</th>\n",
       "      <td>2020-07-13</td>\n",
       "      <td>3</td>\n",
       "      <td>United States</td>\n",
       "      <td>7</td>\n",
       "    </tr>\n",
       "    <tr>\n",
       "      <th>2</th>\n",
       "      <td>2020-07-08</td>\n",
       "      <td>1</td>\n",
       "      <td>United States</td>\n",
       "      <td>16</td>\n",
       "    </tr>\n",
       "    <tr>\n",
       "      <th>3</th>\n",
       "      <td>2021-02-16</td>\n",
       "      <td>2</td>\n",
       "      <td>United States</td>\n",
       "      <td>29</td>\n",
       "    </tr>\n",
       "    <tr>\n",
       "      <th>4</th>\n",
       "      <td>2020-05-12</td>\n",
       "      <td>1</td>\n",
       "      <td>United States</td>\n",
       "      <td>7</td>\n",
       "    </tr>\n",
       "  </tbody>\n",
       "</table>\n",
       "</div>"
      ],
      "text/plain": [
       "  REPORT_DATE  PEOPLE_DEATH_NEW_COUNT COUNTRY_SHORT_NAME  \\\n",
       "0  2020-12-13                       1      United States   \n",
       "1  2020-07-13                       3      United States   \n",
       "2  2020-07-08                       1      United States   \n",
       "3  2021-02-16                       2      United States   \n",
       "4  2020-05-12                       1      United States   \n",
       "\n",
       "   PEOPLE_POSITIVE_NEW_CASES_COUNT  \n",
       "0                              237  \n",
       "1                                7  \n",
       "2                               16  \n",
       "3                               29  \n",
       "4                                7  "
      ]
     },
     "execution_count": 4,
     "metadata": {},
     "output_type": "execute_result"
    }
   ],
   "source": [
    "cols=['PEOPLE_POSITIVE_CASES_COUNT','COUNTY_NAME','PROVINCE_STATE_NAME','CONTINENT_NAME','DATA_SOURCE_NAME','COUNTY_FIPS_NUMBER','COUNTRY_ALPHA_3_CODE','COUNTRY_ALPHA_2_CODE','PEOPLE_DEATH_COUNT']\n",
    "df.drop(cols,axis=1,inplace=True)\n",
    "df.head()"
   ]
  },
  {
   "cell_type": "markdown",
   "metadata": {},
   "source": [
    "###### Again check for missing data"
   ]
  },
  {
   "cell_type": "code",
   "execution_count": 5,
   "metadata": {},
   "outputs": [
    {
     "data": {
      "text/plain": [
       "REPORT_DATE                        0\n",
       "PEOPLE_DEATH_NEW_COUNT             0\n",
       "COUNTRY_SHORT_NAME                 0\n",
       "PEOPLE_POSITIVE_NEW_CASES_COUNT    0\n",
       "dtype: int64"
      ]
     },
     "execution_count": 5,
     "metadata": {},
     "output_type": "execute_result"
    }
   ],
   "source": [
    "df.isna().sum()"
   ]
  },
  {
   "cell_type": "markdown",
   "metadata": {},
   "source": [
    "###### Take only datas of USA"
   ]
  },
  {
   "cell_type": "code",
   "execution_count": 6,
   "metadata": {},
   "outputs": [
    {
     "data": {
      "text/html": [
       "<div>\n",
       "<style scoped>\n",
       "    .dataframe tbody tr th:only-of-type {\n",
       "        vertical-align: middle;\n",
       "    }\n",
       "\n",
       "    .dataframe tbody tr th {\n",
       "        vertical-align: top;\n",
       "    }\n",
       "\n",
       "    .dataframe thead th {\n",
       "        text-align: right;\n",
       "    }\n",
       "</style>\n",
       "<table border=\"1\" class=\"dataframe\">\n",
       "  <thead>\n",
       "    <tr style=\"text-align: right;\">\n",
       "      <th></th>\n",
       "      <th>REPORT_DATE</th>\n",
       "      <th>PEOPLE_DEATH_NEW_COUNT</th>\n",
       "      <th>COUNTRY_SHORT_NAME</th>\n",
       "      <th>PEOPLE_POSITIVE_NEW_CASES_COUNT</th>\n",
       "    </tr>\n",
       "  </thead>\n",
       "  <tbody>\n",
       "    <tr>\n",
       "      <th>0</th>\n",
       "      <td>2020-12-13</td>\n",
       "      <td>1</td>\n",
       "      <td>United States</td>\n",
       "      <td>237</td>\n",
       "    </tr>\n",
       "    <tr>\n",
       "      <th>1</th>\n",
       "      <td>2020-07-13</td>\n",
       "      <td>3</td>\n",
       "      <td>United States</td>\n",
       "      <td>7</td>\n",
       "    </tr>\n",
       "    <tr>\n",
       "      <th>2</th>\n",
       "      <td>2020-07-08</td>\n",
       "      <td>1</td>\n",
       "      <td>United States</td>\n",
       "      <td>16</td>\n",
       "    </tr>\n",
       "    <tr>\n",
       "      <th>3</th>\n",
       "      <td>2021-02-16</td>\n",
       "      <td>2</td>\n",
       "      <td>United States</td>\n",
       "      <td>29</td>\n",
       "    </tr>\n",
       "    <tr>\n",
       "      <th>4</th>\n",
       "      <td>2020-05-12</td>\n",
       "      <td>1</td>\n",
       "      <td>United States</td>\n",
       "      <td>7</td>\n",
       "    </tr>\n",
       "    <tr>\n",
       "      <th>...</th>\n",
       "      <td>...</td>\n",
       "      <td>...</td>\n",
       "      <td>...</td>\n",
       "      <td>...</td>\n",
       "    </tr>\n",
       "    <tr>\n",
       "      <th>1538886</th>\n",
       "      <td>2020-01-21</td>\n",
       "      <td>0</td>\n",
       "      <td>United States</td>\n",
       "      <td>0</td>\n",
       "    </tr>\n",
       "    <tr>\n",
       "      <th>1538887</th>\n",
       "      <td>2020-01-21</td>\n",
       "      <td>0</td>\n",
       "      <td>United States</td>\n",
       "      <td>0</td>\n",
       "    </tr>\n",
       "    <tr>\n",
       "      <th>1538888</th>\n",
       "      <td>2020-01-21</td>\n",
       "      <td>0</td>\n",
       "      <td>United States</td>\n",
       "      <td>0</td>\n",
       "    </tr>\n",
       "    <tr>\n",
       "      <th>1538889</th>\n",
       "      <td>2020-01-21</td>\n",
       "      <td>0</td>\n",
       "      <td>United States</td>\n",
       "      <td>0</td>\n",
       "    </tr>\n",
       "    <tr>\n",
       "      <th>1538890</th>\n",
       "      <td>2020-01-21</td>\n",
       "      <td>0</td>\n",
       "      <td>United States</td>\n",
       "      <td>0</td>\n",
       "    </tr>\n",
       "  </tbody>\n",
       "</table>\n",
       "<p>1509314 rows × 4 columns</p>\n",
       "</div>"
      ],
      "text/plain": [
       "        REPORT_DATE  PEOPLE_DEATH_NEW_COUNT COUNTRY_SHORT_NAME  \\\n",
       "0        2020-12-13                       1      United States   \n",
       "1        2020-07-13                       3      United States   \n",
       "2        2020-07-08                       1      United States   \n",
       "3        2021-02-16                       2      United States   \n",
       "4        2020-05-12                       1      United States   \n",
       "...             ...                     ...                ...   \n",
       "1538886  2020-01-21                       0      United States   \n",
       "1538887  2020-01-21                       0      United States   \n",
       "1538888  2020-01-21                       0      United States   \n",
       "1538889  2020-01-21                       0      United States   \n",
       "1538890  2020-01-21                       0      United States   \n",
       "\n",
       "         PEOPLE_POSITIVE_NEW_CASES_COUNT  \n",
       "0                                    237  \n",
       "1                                      7  \n",
       "2                                     16  \n",
       "3                                     29  \n",
       "4                                      7  \n",
       "...                                  ...  \n",
       "1538886                                0  \n",
       "1538887                                0  \n",
       "1538888                                0  \n",
       "1538889                                0  \n",
       "1538890                                0  \n",
       "\n",
       "[1509314 rows x 4 columns]"
      ]
     },
     "execution_count": 6,
     "metadata": {},
     "output_type": "execute_result"
    }
   ],
   "source": [
    "usa = df[df['COUNTRY_SHORT_NAME']=='United States']\n",
    "usa"
   ]
  },
  {
   "cell_type": "markdown",
   "metadata": {},
   "source": [
    "###### Take cases data"
   ]
  },
  {
   "cell_type": "code",
   "execution_count": 7,
   "metadata": {},
   "outputs": [
    {
     "data": {
      "text/html": [
       "<div>\n",
       "<style scoped>\n",
       "    .dataframe tbody tr th:only-of-type {\n",
       "        vertical-align: middle;\n",
       "    }\n",
       "\n",
       "    .dataframe tbody tr th {\n",
       "        vertical-align: top;\n",
       "    }\n",
       "\n",
       "    .dataframe thead th {\n",
       "        text-align: right;\n",
       "    }\n",
       "</style>\n",
       "<table border=\"1\" class=\"dataframe\">\n",
       "  <thead>\n",
       "    <tr style=\"text-align: right;\">\n",
       "      <th></th>\n",
       "      <th>REPORT_DATE</th>\n",
       "      <th>PEOPLE_POSITIVE_NEW_CASES_COUNT</th>\n",
       "    </tr>\n",
       "  </thead>\n",
       "  <tbody>\n",
       "    <tr>\n",
       "      <th>0</th>\n",
       "      <td>2020-12-13</td>\n",
       "      <td>237</td>\n",
       "    </tr>\n",
       "    <tr>\n",
       "      <th>1</th>\n",
       "      <td>2020-07-13</td>\n",
       "      <td>7</td>\n",
       "    </tr>\n",
       "    <tr>\n",
       "      <th>2</th>\n",
       "      <td>2020-07-08</td>\n",
       "      <td>16</td>\n",
       "    </tr>\n",
       "    <tr>\n",
       "      <th>3</th>\n",
       "      <td>2021-02-16</td>\n",
       "      <td>29</td>\n",
       "    </tr>\n",
       "    <tr>\n",
       "      <th>4</th>\n",
       "      <td>2020-05-12</td>\n",
       "      <td>7</td>\n",
       "    </tr>\n",
       "    <tr>\n",
       "      <th>...</th>\n",
       "      <td>...</td>\n",
       "      <td>...</td>\n",
       "    </tr>\n",
       "    <tr>\n",
       "      <th>1538886</th>\n",
       "      <td>2020-01-21</td>\n",
       "      <td>0</td>\n",
       "    </tr>\n",
       "    <tr>\n",
       "      <th>1538887</th>\n",
       "      <td>2020-01-21</td>\n",
       "      <td>0</td>\n",
       "    </tr>\n",
       "    <tr>\n",
       "      <th>1538888</th>\n",
       "      <td>2020-01-21</td>\n",
       "      <td>0</td>\n",
       "    </tr>\n",
       "    <tr>\n",
       "      <th>1538889</th>\n",
       "      <td>2020-01-21</td>\n",
       "      <td>0</td>\n",
       "    </tr>\n",
       "    <tr>\n",
       "      <th>1538890</th>\n",
       "      <td>2020-01-21</td>\n",
       "      <td>0</td>\n",
       "    </tr>\n",
       "  </tbody>\n",
       "</table>\n",
       "<p>1509314 rows × 2 columns</p>\n",
       "</div>"
      ],
      "text/plain": [
       "        REPORT_DATE  PEOPLE_POSITIVE_NEW_CASES_COUNT\n",
       "0        2020-12-13                              237\n",
       "1        2020-07-13                                7\n",
       "2        2020-07-08                               16\n",
       "3        2021-02-16                               29\n",
       "4        2020-05-12                                7\n",
       "...             ...                              ...\n",
       "1538886  2020-01-21                                0\n",
       "1538887  2020-01-21                                0\n",
       "1538888  2020-01-21                                0\n",
       "1538889  2020-01-21                                0\n",
       "1538890  2020-01-21                                0\n",
       "\n",
       "[1509314 rows x 2 columns]"
      ]
     },
     "execution_count": 7,
     "metadata": {},
     "output_type": "execute_result"
    }
   ],
   "source": [
    "usa_cases = usa[['REPORT_DATE','PEOPLE_POSITIVE_NEW_CASES_COUNT']]\n",
    "usa_cases"
   ]
  },
  {
   "cell_type": "markdown",
   "metadata": {},
   "source": [
    "###### Aggregate the case reports happened on same dates"
   ]
  },
  {
   "cell_type": "code",
   "execution_count": 8,
   "metadata": {},
   "outputs": [
    {
     "data": {
      "text/html": [
       "<div>\n",
       "<style scoped>\n",
       "    .dataframe tbody tr th:only-of-type {\n",
       "        vertical-align: middle;\n",
       "    }\n",
       "\n",
       "    .dataframe tbody tr th {\n",
       "        vertical-align: top;\n",
       "    }\n",
       "\n",
       "    .dataframe thead th {\n",
       "        text-align: right;\n",
       "    }\n",
       "</style>\n",
       "<table border=\"1\" class=\"dataframe\">\n",
       "  <thead>\n",
       "    <tr style=\"text-align: right;\">\n",
       "      <th></th>\n",
       "      <th>REPORT_DATE</th>\n",
       "      <th>PEOPLE_POSITIVE_NEW_CASES_COUNT</th>\n",
       "    </tr>\n",
       "  </thead>\n",
       "  <tbody>\n",
       "    <tr>\n",
       "      <th>0</th>\n",
       "      <td>2020-01-21</td>\n",
       "      <td>1</td>\n",
       "    </tr>\n",
       "    <tr>\n",
       "      <th>1</th>\n",
       "      <td>2020-01-22</td>\n",
       "      <td>0</td>\n",
       "    </tr>\n",
       "    <tr>\n",
       "      <th>2</th>\n",
       "      <td>2020-01-23</td>\n",
       "      <td>0</td>\n",
       "    </tr>\n",
       "    <tr>\n",
       "      <th>3</th>\n",
       "      <td>2020-01-24</td>\n",
       "      <td>1</td>\n",
       "    </tr>\n",
       "    <tr>\n",
       "      <th>4</th>\n",
       "      <td>2020-01-25</td>\n",
       "      <td>1</td>\n",
       "    </tr>\n",
       "    <tr>\n",
       "      <th>...</th>\n",
       "      <td>...</td>\n",
       "      <td>...</td>\n",
       "    </tr>\n",
       "    <tr>\n",
       "      <th>456</th>\n",
       "      <td>2021-04-21</td>\n",
       "      <td>60514</td>\n",
       "    </tr>\n",
       "    <tr>\n",
       "      <th>457</th>\n",
       "      <td>2021-04-22</td>\n",
       "      <td>66358</td>\n",
       "    </tr>\n",
       "    <tr>\n",
       "      <th>458</th>\n",
       "      <td>2021-04-23</td>\n",
       "      <td>63752</td>\n",
       "    </tr>\n",
       "    <tr>\n",
       "      <th>459</th>\n",
       "      <td>2021-04-24</td>\n",
       "      <td>50575</td>\n",
       "    </tr>\n",
       "    <tr>\n",
       "      <th>460</th>\n",
       "      <td>2021-04-25</td>\n",
       "      <td>33662</td>\n",
       "    </tr>\n",
       "  </tbody>\n",
       "</table>\n",
       "<p>461 rows × 2 columns</p>\n",
       "</div>"
      ],
      "text/plain": [
       "    REPORT_DATE  PEOPLE_POSITIVE_NEW_CASES_COUNT\n",
       "0    2020-01-21                                1\n",
       "1    2020-01-22                                0\n",
       "2    2020-01-23                                0\n",
       "3    2020-01-24                                1\n",
       "4    2020-01-25                                1\n",
       "..          ...                              ...\n",
       "456  2021-04-21                            60514\n",
       "457  2021-04-22                            66358\n",
       "458  2021-04-23                            63752\n",
       "459  2021-04-24                            50575\n",
       "460  2021-04-25                            33662\n",
       "\n",
       "[461 rows x 2 columns]"
      ]
     },
     "execution_count": 8,
     "metadata": {},
     "output_type": "execute_result"
    }
   ],
   "source": [
    "usa_cases = usa_cases.groupby('REPORT_DATE')['PEOPLE_POSITIVE_NEW_CASES_COUNT'].sum().reset_index()\n",
    "usa_cases"
   ]
  },
  {
   "cell_type": "markdown",
   "metadata": {},
   "source": [
    "###### Change the index of the dataframe to dates"
   ]
  },
  {
   "cell_type": "code",
   "execution_count": 9,
   "metadata": {},
   "outputs": [
    {
     "data": {
      "text/html": [
       "<div>\n",
       "<style scoped>\n",
       "    .dataframe tbody tr th:only-of-type {\n",
       "        vertical-align: middle;\n",
       "    }\n",
       "\n",
       "    .dataframe tbody tr th {\n",
       "        vertical-align: top;\n",
       "    }\n",
       "\n",
       "    .dataframe thead th {\n",
       "        text-align: right;\n",
       "    }\n",
       "</style>\n",
       "<table border=\"1\" class=\"dataframe\">\n",
       "  <thead>\n",
       "    <tr style=\"text-align: right;\">\n",
       "      <th></th>\n",
       "      <th>PEOPLE_POSITIVE_NEW_CASES_COUNT</th>\n",
       "    </tr>\n",
       "    <tr>\n",
       "      <th>REPORT_DATE</th>\n",
       "      <th></th>\n",
       "    </tr>\n",
       "  </thead>\n",
       "  <tbody>\n",
       "    <tr>\n",
       "      <th>2020-01-21</th>\n",
       "      <td>1</td>\n",
       "    </tr>\n",
       "    <tr>\n",
       "      <th>2020-01-22</th>\n",
       "      <td>0</td>\n",
       "    </tr>\n",
       "    <tr>\n",
       "      <th>2020-01-23</th>\n",
       "      <td>0</td>\n",
       "    </tr>\n",
       "    <tr>\n",
       "      <th>2020-01-24</th>\n",
       "      <td>1</td>\n",
       "    </tr>\n",
       "    <tr>\n",
       "      <th>2020-01-25</th>\n",
       "      <td>1</td>\n",
       "    </tr>\n",
       "    <tr>\n",
       "      <th>...</th>\n",
       "      <td>...</td>\n",
       "    </tr>\n",
       "    <tr>\n",
       "      <th>2021-04-21</th>\n",
       "      <td>60514</td>\n",
       "    </tr>\n",
       "    <tr>\n",
       "      <th>2021-04-22</th>\n",
       "      <td>66358</td>\n",
       "    </tr>\n",
       "    <tr>\n",
       "      <th>2021-04-23</th>\n",
       "      <td>63752</td>\n",
       "    </tr>\n",
       "    <tr>\n",
       "      <th>2021-04-24</th>\n",
       "      <td>50575</td>\n",
       "    </tr>\n",
       "    <tr>\n",
       "      <th>2021-04-25</th>\n",
       "      <td>33662</td>\n",
       "    </tr>\n",
       "  </tbody>\n",
       "</table>\n",
       "<p>461 rows × 1 columns</p>\n",
       "</div>"
      ],
      "text/plain": [
       "             PEOPLE_POSITIVE_NEW_CASES_COUNT\n",
       "REPORT_DATE                                 \n",
       "2020-01-21                                 1\n",
       "2020-01-22                                 0\n",
       "2020-01-23                                 0\n",
       "2020-01-24                                 1\n",
       "2020-01-25                                 1\n",
       "...                                      ...\n",
       "2021-04-21                             60514\n",
       "2021-04-22                             66358\n",
       "2021-04-23                             63752\n",
       "2021-04-24                             50575\n",
       "2021-04-25                             33662\n",
       "\n",
       "[461 rows x 1 columns]"
      ]
     },
     "execution_count": 9,
     "metadata": {},
     "output_type": "execute_result"
    }
   ],
   "source": [
    "usa_cases = usa_cases.set_index('REPORT_DATE')\n",
    "usa_cases"
   ]
  },
  {
   "cell_type": "markdown",
   "metadata": {},
   "source": [
    "###### Check the frequency followed by index dates"
   ]
  },
  {
   "cell_type": "code",
   "execution_count": 10,
   "metadata": {},
   "outputs": [
    {
     "data": {
      "text/plain": [
       "DatetimeIndex(['2020-01-21', '2020-01-22', '2020-01-23', '2020-01-24',\n",
       "               '2020-01-25', '2020-01-26', '2020-01-27', '2020-01-28',\n",
       "               '2020-01-29', '2020-01-30',\n",
       "               ...\n",
       "               '2021-04-16', '2021-04-17', '2021-04-18', '2021-04-19',\n",
       "               '2021-04-20', '2021-04-21', '2021-04-22', '2021-04-23',\n",
       "               '2021-04-24', '2021-04-25'],\n",
       "              dtype='datetime64[ns]', name='REPORT_DATE', length=461, freq=None)"
      ]
     },
     "execution_count": 10,
     "metadata": {},
     "output_type": "execute_result"
    }
   ],
   "source": [
    "usa_cases.index"
   ]
  },
  {
   "cell_type": "markdown",
   "metadata": {},
   "source": [
    "###### Indicate the frequency is happening by day"
   ]
  },
  {
   "cell_type": "code",
   "execution_count": 11,
   "metadata": {},
   "outputs": [],
   "source": [
    "usa_cases.index.freq='D'"
   ]
  },
  {
   "cell_type": "code",
   "execution_count": 12,
   "metadata": {},
   "outputs": [
    {
     "data": {
      "text/plain": [
       "DatetimeIndex(['2020-01-21', '2020-01-22', '2020-01-23', '2020-01-24',\n",
       "               '2020-01-25', '2020-01-26', '2020-01-27', '2020-01-28',\n",
       "               '2020-01-29', '2020-01-30',\n",
       "               ...\n",
       "               '2021-04-16', '2021-04-17', '2021-04-18', '2021-04-19',\n",
       "               '2021-04-20', '2021-04-21', '2021-04-22', '2021-04-23',\n",
       "               '2021-04-24', '2021-04-25'],\n",
       "              dtype='datetime64[ns]', name='REPORT_DATE', length=461, freq='D')"
      ]
     },
     "execution_count": 12,
     "metadata": {},
     "output_type": "execute_result"
    }
   ],
   "source": [
    "usa_cases.index"
   ]
  },
  {
   "cell_type": "code",
   "execution_count": 13,
   "metadata": {},
   "outputs": [
    {
     "data": {
      "text/plain": [
       "REPORT_DATE\n",
       "2020-01-21        1\n",
       "2020-01-22        0\n",
       "2020-01-23        0\n",
       "2020-01-24        1\n",
       "2020-01-25        1\n",
       "              ...  \n",
       "2021-04-21    60514\n",
       "2021-04-22    66358\n",
       "2021-04-23    63752\n",
       "2021-04-24    50575\n",
       "2021-04-25    33662\n",
       "Freq: D, Name: PEOPLE_POSITIVE_NEW_CASES_COUNT, Length: 461, dtype: int64"
      ]
     },
     "execution_count": 13,
     "metadata": {},
     "output_type": "execute_result"
    }
   ],
   "source": [
    "usa_cases['PEOPLE_POSITIVE_NEW_CASES_COUNT']"
   ]
  },
  {
   "cell_type": "markdown",
   "metadata": {},
   "source": [
    "# Visualization"
   ]
  },
  {
   "cell_type": "code",
   "execution_count": 14,
   "metadata": {},
   "outputs": [
    {
     "data": {
      "text/plain": [
       "<AxesSubplot:xlabel='REPORT_DATE'>"
      ]
     },
     "execution_count": 14,
     "metadata": {},
     "output_type": "execute_result"
    },
    {
     "data": {
      "image/png": "[encoded data removed]",
      "text/plain": [
       "<Figure size 1440x360 with 1 Axes>"
      ]
     },
     "metadata": {
      "needs_background": "light"
     },
     "output_type": "display_data"
    }
   ],
   "source": [
    "usa_cases.plot(figsize=(20,5))"
   ]
  },
  {
   "cell_type": "markdown",
   "metadata": {},
   "source": [
    "# Train test split"
   ]
  },
  {
   "cell_type": "code",
   "execution_count": 15,
   "metadata": {},
   "outputs": [
    {
     "data": {
      "text/plain": [
       "461"
      ]
     },
     "execution_count": 15,
     "metadata": {},
     "output_type": "execute_result"
    }
   ],
   "source": [
    "len(usa_cases)"
   ]
  },
  {
   "cell_type": "code",
   "execution_count": 16,
   "metadata": {},
   "outputs": [
    {
     "data": {
      "text/plain": [
       "447"
      ]
     },
     "execution_count": 16,
     "metadata": {},
     "output_type": "execute_result"
    }
   ],
   "source": [
    "len(usa_cases)-14"
   ]
  },
  {
   "cell_type": "code",
   "execution_count": 17,
   "metadata": {},
   "outputs": [],
   "source": [
    "train_usa_cases = usa_cases.iloc[:447]\n",
    "test_usa_cases = usa_cases.iloc[447:]"
   ]
  },
  {
   "cell_type": "code",
   "execution_count": 18,
   "metadata": {},
   "outputs": [
    {
     "data": {
      "text/plain": [
       "14"
      ]
     },
     "execution_count": 18,
     "metadata": {},
     "output_type": "execute_result"
    }
   ],
   "source": [
    "len(test_usa_cases)"
   ]
  },
  {
   "cell_type": "markdown",
   "metadata": {},
   "source": [
    "# Scale Data\n"
   ]
  },
  {
   "cell_type": "code",
   "execution_count": 19,
   "metadata": {},
   "outputs": [],
   "source": [
    "from sklearn.preprocessing import MinMaxScaler"
   ]
  },
  {
   "cell_type": "code",
   "execution_count": 20,
   "metadata": {},
   "outputs": [],
   "source": [
    "scaler = MinMaxScaler()"
   ]
  },
  {
   "cell_type": "code",
   "execution_count": 21,
   "metadata": {},
   "outputs": [
    {
     "data": {
      "text/plain": [
       "MinMaxScaler()"
      ]
     },
     "execution_count": 21,
     "metadata": {},
     "output_type": "execute_result"
    }
   ],
   "source": [
    "scaler.fit(train_usa_cases)"
   ]
  },
  {
   "cell_type": "code",
   "execution_count": 22,
   "metadata": {},
   "outputs": [],
   "source": [
    "scaled_train = scaler.transform(train_usa_cases)\n",
    "scaled_test = scaler.transform(test_usa_cases)"
   ]
  },
  {
   "cell_type": "markdown",
   "metadata": {},
   "source": [
    "# Time Series Generator"
   ]
  },
  {
   "cell_type": "code",
   "execution_count": 23,
   "metadata": {},
   "outputs": [],
   "source": [
    "from keras.preprocessing.sequence import TimeseriesGenerator"
   ]
  },
  {
   "cell_type": "code",
   "execution_count": 24,
   "metadata": {},
   "outputs": [
    {
     "data": {
      "text/plain": [
       "array([[3.32591654e-06],\n",
       "       [0.00000000e+00],\n",
       "       [0.00000000e+00],\n",
       "       [3.32591654e-06],\n",
       "       [3.32591654e-06],\n",
       "       [6.65183308e-06],\n",
       "       [0.00000000e+00],\n",
       "       [0.00000000e+00],\n",
       "       [0.00000000e+00],\n",
       "       [3.32591654e-06],\n",
       "       [3.32591654e-06],\n",
       "       [3.32591654e-06],\n",
       "       [9.97774962e-06],\n",
       "       [0.00000000e+00],\n",
       "       [0.00000000e+00],\n",
       "       [3.32591654e-06],\n",
       "       [0.00000000e+00],\n",
       "       [0.00000000e+00],\n",
       "       [0.00000000e+00],\n",
       "       [0.00000000e+00],\n",
       "       [3.32591654e-06],\n",
       "       [0.00000000e+00],\n",
       "       [3.32591654e-06],\n",
       "       [3.32591654e-06],\n",
       "       [0.00000000e+00],\n",
       "       [0.00000000e+00],\n",
       "       [0.00000000e+00],\n",
       "       [3.32591654e-05],\n",
       "       [0.00000000e+00],\n",
       "       [0.00000000e+00],\n",
       "       [6.65183308e-06],\n",
       "       [9.97774962e-06],\n",
       "       [0.00000000e+00],\n",
       "       [0.00000000e+00],\n",
       "       [4.32369150e-05],\n",
       "       [6.65183308e-06],\n",
       "       [4.98887481e-05],\n",
       "       [0.00000000e+00],\n",
       "       [1.66295827e-05],\n",
       "       [1.66295827e-05],\n",
       "       [5.98664977e-05],\n",
       "       [5.32146646e-05],\n",
       "       [6.98442473e-05],\n",
       "       [1.19732995e-04],\n",
       "       [2.22836408e-04],\n",
       "       [2.76051073e-04],\n",
       "       [3.89132235e-04],\n",
       "       [3.95784068e-04],\n",
       "       [6.68509224e-04],\n",
       "       [8.97997466e-04],\n",
       "       [8.14849552e-04],\n",
       "       [1.34699620e-03],\n",
       "       [1.84920960e-03],\n",
       "       [2.24166775e-03],\n",
       "       [2.33479341e-03],\n",
       "       [3.01660630e-03],\n",
       "       [4.65295724e-03],\n",
       "       [8.12854002e-03],\n",
       "       [1.34466806e-02],\n",
       "       [1.86883250e-02],\n",
       "       [2.16716722e-02],\n",
       "       [2.84199568e-02],\n",
       "       [3.46959613e-02],\n",
       "       [3.46992873e-02],\n",
       "       [4.86714626e-02],\n",
       "       [5.65339293e-02],\n",
       "       [5.76381336e-02],\n",
       "       [7.00637578e-02],\n",
       "       [6.15959743e-02],\n",
       "       [7.14041022e-02],\n",
       "       [8.15049107e-02],\n",
       "       [8.95669324e-02],\n",
       "       [9.88362618e-02],\n",
       "       [1.07486971e-01],\n",
       "       [1.16736345e-01],\n",
       "       [8.51966781e-02],\n",
       "       [1.02824036e-01],\n",
       "       [1.00898330e-01],\n",
       "       [1.05830664e-01],\n",
       "       [1.15405978e-01],\n",
       "       [1.11328404e-01],\n",
       "       [1.05498073e-01],\n",
       "       [9.02753526e-02],\n",
       "       [8.57055433e-02],\n",
       "       [8.87720384e-02],\n",
       "       [9.98872514e-02],\n",
       "       [1.05142200e-01],\n",
       "       [1.04796304e-01],\n",
       "       [9.44493779e-02],\n",
       "       [8.42587696e-02],\n",
       "       [9.11134836e-02],\n",
       "       [8.48574346e-02],\n",
       "       [9.58894997e-02],\n",
       "       [1.12336157e-01],\n",
       "       [1.22197500e-01],\n",
       "       [1.14438136e-01],\n",
       "       [8.89183787e-02],\n",
       "       [7.71512860e-02],\n",
       "       [8.19938204e-02],\n",
       "       [8.83197137e-02],\n",
       "       [1.00964848e-01],\n",
       "       [1.12981385e-01],\n",
       "       [9.80280641e-02],\n",
       "       [8.69394583e-02],\n",
       "       [7.30437790e-02],\n",
       "       [7.88475034e-02],\n",
       "       [8.15115625e-02],\n",
       "       [9.47087994e-02],\n",
       "       [9.19549405e-02],\n",
       "       [8.27088925e-02],\n",
       "       [6.75726463e-02],\n",
       "       [5.86059753e-02],\n",
       "       [7.41679388e-02],\n",
       "       [7.03265052e-02],\n",
       "       [8.96733617e-02],\n",
       "       [8.72620722e-02],\n",
       "       [7.86878594e-02],\n",
       "       [6.32389771e-02],\n",
       "       [7.25947803e-02],\n",
       "       [6.97677512e-02],\n",
       "       [7.67288946e-02],\n",
       "       [8.55858103e-02],\n",
       "       [7.91534877e-02],\n",
       "       [7.40615095e-02],\n",
       "       [6.66214342e-02],\n",
       "       [6.35250059e-02],\n",
       "       [6.28465189e-02],\n",
       "       [6.23409796e-02],\n",
       "       [7.48730331e-02],\n",
       "       [8.16445992e-02],\n",
       "       [7.78164693e-02],\n",
       "       [6.86269619e-02],\n",
       "       [7.28275945e-02],\n",
       "       [6.91491308e-02],\n",
       "       [6.64750939e-02],\n",
       "       [7.18930119e-02],\n",
       "       [9.54837379e-02],\n",
       "       [7.48863368e-02],\n",
       "       [6.19152623e-02],\n",
       "       [6.05549624e-02],\n",
       "       [6.25438605e-02],\n",
       "       [7.60038448e-02],\n",
       "       [7.71679155e-02],\n",
       "       [8.47875903e-02],\n",
       "       [8.42587696e-02],\n",
       "       [6.36247834e-02],\n",
       "       [6.69074630e-02],\n",
       "       [8.27654331e-02],\n",
       "       [8.53263888e-02],\n",
       "       [9.33218922e-02],\n",
       "       [1.02557962e-01],\n",
       "       [1.06512477e-01],\n",
       "       [8.77343524e-02],\n",
       "       [1.01327373e-01],\n",
       "       [1.16606634e-01],\n",
       "       [1.23022327e-01],\n",
       "       [1.36937962e-01],\n",
       "       [1.51422328e-01],\n",
       "       [1.40682944e-01],\n",
       "       [1.31400311e-01],\n",
       "       [1.31360400e-01],\n",
       "       [1.60937775e-01],\n",
       "       [1.66212679e-01],\n",
       "       [1.84784597e-01],\n",
       "       [1.90089434e-01],\n",
       "       [1.66315782e-01],\n",
       "       [1.48891306e-01],\n",
       "       [1.57369067e-01],\n",
       "       [1.79878870e-01],\n",
       "       [1.97742368e-01],\n",
       "       [1.99185816e-01],\n",
       "       [2.26917308e-01],\n",
       "       [2.01952978e-01],\n",
       "       [1.92254606e-01],\n",
       "       [2.04766704e-01],\n",
       "       [2.18186777e-01],\n",
       "       [2.27299788e-01],\n",
       "       [2.51728645e-01],\n",
       "       [2.35883979e-01],\n",
       "       [2.07706814e-01],\n",
       "       [2.07121452e-01],\n",
       "       [1.99182490e-01],\n",
       "       [2.17105854e-01],\n",
       "       [2.31946094e-01],\n",
       "       [2.32834113e-01],\n",
       "       [2.44538014e-01],\n",
       "       [2.22091403e-01],\n",
       "       [1.80321217e-01],\n",
       "       [1.96831067e-01],\n",
       "       [2.09918548e-01],\n",
       "       [2.22111358e-01],\n",
       "       [2.29315294e-01],\n",
       "       [2.29780922e-01],\n",
       "       [1.89005185e-01],\n",
       "       [1.68936605e-01],\n",
       "       [1.57927821e-01],\n",
       "       [1.78099505e-01],\n",
       "       [1.78678214e-01],\n",
       "       [1.91286764e-01],\n",
       "       [2.03403078e-01],\n",
       "       [1.83723630e-01],\n",
       "       [1.61240434e-01],\n",
       "       [1.56893461e-01],\n",
       "       [1.77460929e-01],\n",
       "       [1.80524098e-01],\n",
       "       [1.79802374e-01],\n",
       "       [1.97815538e-01],\n",
       "       [1.68766983e-01],\n",
       "       [1.40144145e-01],\n",
       "       [1.24798366e-01],\n",
       "       [1.43789350e-01],\n",
       "       [1.43057648e-01],\n",
       "       [1.53131849e-01],\n",
       "       [1.63023125e-01],\n",
       "       [1.49752718e-01],\n",
       "       [1.07536859e-01],\n",
       "       [1.34380332e-01],\n",
       "       [1.30146440e-01],\n",
       "       [1.50155154e-01],\n",
       "       [1.52440059e-01],\n",
       "       [1.54867978e-01],\n",
       "       [1.48369137e-01],\n",
       "       [1.11185390e-01],\n",
       "       [1.21346065e-01],\n",
       "       [1.46503298e-01],\n",
       "       [1.07906036e-01],\n",
       "       [1.54302572e-01],\n",
       "       [1.73293555e-01],\n",
       "       [1.40533277e-01],\n",
       "       [9.97741703e-02],\n",
       "       [8.37000156e-02],\n",
       "       [9.62553506e-02],\n",
       "       [1.10859450e-01],\n",
       "       [1.26584383e-01],\n",
       "       [1.58207198e-01],\n",
       "       [1.30056640e-01],\n",
       "       [1.10896035e-01],\n",
       "       [1.22683083e-01],\n",
       "       [1.30432469e-01],\n",
       "       [1.30602091e-01],\n",
       "       [1.50697278e-01],\n",
       "       [1.62594082e-01],\n",
       "       [1.39059896e-01],\n",
       "       [1.20917022e-01],\n",
       "       [1.82759114e-01],\n",
       "       [1.24359345e-01],\n",
       "       [1.38195158e-01],\n",
       "       [1.50338079e-01],\n",
       "       [1.81531851e-01],\n",
       "       [1.42006658e-01],\n",
       "       [1.24050035e-01],\n",
       "       [1.24256242e-01],\n",
       "       [1.45332575e-01],\n",
       "       [1.39881398e-01],\n",
       "       [1.54382394e-01],\n",
       "       [1.78202608e-01],\n",
       "       [1.58908966e-01],\n",
       "       [1.16616612e-01],\n",
       "       [2.07577103e-01],\n",
       "       [1.42555435e-01],\n",
       "       [1.76330117e-01],\n",
       "       [1.87525152e-01],\n",
       "       [1.96102691e-01],\n",
       "       [1.71776937e-01],\n",
       "       [1.48944520e-01],\n",
       "       [1.59697209e-01],\n",
       "       [1.80909904e-01],\n",
       "       [1.99066083e-01],\n",
       "       [2.17358624e-01],\n",
       "       [2.34354057e-01],\n",
       "       [1.75478683e-01],\n",
       "       [1.59251536e-01],\n",
       "       [2.17647978e-01],\n",
       "       [2.01530587e-01],\n",
       "       [2.13646901e-01],\n",
       "       [2.49869458e-01],\n",
       "       [2.83690703e-01],\n",
       "       [2.61353848e-01],\n",
       "       [1.98607106e-01],\n",
       "       [2.48216477e-01],\n",
       "       [2.47404954e-01],\n",
       "       [2.72342676e-01],\n",
       "       [3.01517616e-01],\n",
       "       [3.32152633e-01],\n",
       "       [2.80075432e-01],\n",
       "       [2.46766378e-01],\n",
       "       [3.12679392e-01],\n",
       "       [3.07367903e-01],\n",
       "       [3.59465060e-01],\n",
       "       [4.03543431e-01],\n",
       "       [4.41758213e-01],\n",
       "       [4.18839322e-01],\n",
       "       [3.43653652e-01],\n",
       "       [4.33819250e-01],\n",
       "       [4.64577326e-01],\n",
       "       [4.75759057e-01],\n",
       "       [5.44252983e-01],\n",
       "       [6.03643874e-01],\n",
       "       [5.28930485e-01],\n",
       "       [4.49620679e-01],\n",
       "       [5.53964659e-01],\n",
       "       [5.37597824e-01],\n",
       "       [5.72998879e-01],\n",
       "       [6.23659240e-01],\n",
       "       [6.61461607e-01],\n",
       "       [5.71874719e-01],\n",
       "       [4.68415434e-01],\n",
       "       [5.97776957e-01],\n",
       "       [5.91690530e-01],\n",
       "       [6.00899993e-01],\n",
       "       [3.42213530e-01],\n",
       "       [6.84759653e-01],\n",
       "       [5.02698981e-01],\n",
       "       [4.53561890e-01],\n",
       "       [5.58218506e-01],\n",
       "       [6.12833382e-01],\n",
       "       [6.69210993e-01],\n",
       "       [7.24261563e-01],\n",
       "       [7.69573850e-01],\n",
       "       [6.84051232e-01],\n",
       "       [5.72416844e-01],\n",
       "       [6.79458142e-01],\n",
       "       [7.31305855e-01],\n",
       "       [7.30823597e-01],\n",
       "       [7.50719229e-01],\n",
       "       [9.31489445e-01],\n",
       "       [6.89891542e-01],\n",
       "       [6.12713649e-01],\n",
       "       [6.68921638e-01],\n",
       "       [6.75064606e-01],\n",
       "       [8.14989241e-01],\n",
       "       [7.92988303e-01],\n",
       "       [8.35546731e-01],\n",
       "       [6.44958409e-01],\n",
       "       [5.98485378e-01],\n",
       "       [6.70548011e-01],\n",
       "       [6.70704329e-01],\n",
       "       [7.57603877e-01],\n",
       "       [6.43724494e-01],\n",
       "       [3.35827771e-01],\n",
       "       [7.21244957e-01],\n",
       "       [5.05848624e-01],\n",
       "       [6.28774500e-01],\n",
       "       [6.68815209e-01],\n",
       "       [7.61754621e-01],\n",
       "       [7.68359891e-01],\n",
       "       [4.89817707e-01],\n",
       "       [9.69112213e-01],\n",
       "       [6.71725386e-01],\n",
       "       [8.37961346e-01],\n",
       "       [7.81680187e-01],\n",
       "       [8.51431308e-01],\n",
       "       [9.32267710e-01],\n",
       "       [1.00000000e+00],\n",
       "       [8.38466886e-01],\n",
       "       [6.92818348e-01],\n",
       "       [7.58362186e-01],\n",
       "       [7.64395398e-01],\n",
       "       [7.63011817e-01],\n",
       "       [7.94002707e-01],\n",
       "       [8.01449434e-01],\n",
       "       [6.70242027e-01],\n",
       "       [5.63696291e-01],\n",
       "       [4.73919825e-01],\n",
       "       [6.17572813e-01],\n",
       "       [6.21667016e-01],\n",
       "       [6.32822140e-01],\n",
       "       [6.38293273e-01],\n",
       "       [5.58171943e-01],\n",
       "       [4.30436793e-01],\n",
       "       [5.18869587e-01],\n",
       "       [5.04558169e-01],\n",
       "       [5.18008175e-01],\n",
       "       [5.49730767e-01],\n",
       "       [5.51204148e-01],\n",
       "       [4.45020937e-01],\n",
       "       [3.78153385e-01],\n",
       "       [4.65205924e-01],\n",
       "       [3.92158819e-01],\n",
       "       [3.99908205e-01],\n",
       "       [4.18796085e-01],\n",
       "       [4.31055413e-01],\n",
       "       [3.49071570e-01],\n",
       "       [2.90292647e-01],\n",
       "       [3.09529749e-01],\n",
       "       [3.20921013e-01],\n",
       "       [3.15958745e-01],\n",
       "       [3.51456253e-01],\n",
       "       [3.31437561e-01],\n",
       "       [2.81671872e-01],\n",
       "       [2.12176846e-01],\n",
       "       [1.83996355e-01],\n",
       "       [2.14927379e-01],\n",
       "       [2.33512600e-01],\n",
       "       [2.39066881e-01],\n",
       "       [2.59750756e-01],\n",
       "       [2.31962723e-01],\n",
       "       [1.83580615e-01],\n",
       "       [1.97995138e-01],\n",
       "       [2.39283065e-01],\n",
       "       [2.46746422e-01],\n",
       "       [2.58939232e-01],\n",
       "       [2.60409287e-01],\n",
       "       [2.08538293e-01],\n",
       "       [1.69372300e-01],\n",
       "       [1.88732460e-01],\n",
       "       [1.92294517e-01],\n",
       "       [2.21971670e-01],\n",
       "       [2.24156797e-01],\n",
       "       [2.18792094e-01],\n",
       "       [1.88200313e-01],\n",
       "       [1.33465705e-01],\n",
       "       [3.14345676e-01],\n",
       "       [1.86188134e-01],\n",
       "       [1.93984082e-01],\n",
       "       [2.07966235e-01],\n",
       "       [2.13999448e-01],\n",
       "       [1.64902268e-01],\n",
       "       [1.26404784e-01],\n",
       "       [1.90385440e-01],\n",
       "       [1.81741383e-01],\n",
       "       [1.96076084e-01],\n",
       "       [2.01603757e-01],\n",
       "       [2.01952978e-01],\n",
       "       [1.80996378e-01],\n",
       "       [1.13802886e-01],\n",
       "       [1.82453130e-01],\n",
       "       [1.89138222e-01],\n",
       "       [2.65777317e-01],\n",
       "       [2.30552535e-01],\n",
       "       [2.48306277e-01],\n",
       "       [2.01843223e-01],\n",
       "       [1.48086434e-01],\n",
       "       [2.36509251e-01],\n",
       "       [2.07407481e-01],\n",
       "       [2.26438376e-01],\n",
       "       [2.57100000e-01],\n",
       "       [2.28028164e-01],\n",
       "       [2.12702340e-01],\n",
       "       [1.22486854e-01],\n",
       "       [2.56022403e-01],\n",
       "       [2.06263366e-01],\n",
       "       [2.43087914e-01],\n",
       "       [2.68381509e-01],\n",
       "       [2.70939139e-01],\n",
       "       [2.15253318e-01],\n",
       "       [1.59710512e-01]])"
      ]
     },
     "execution_count": 24,
     "metadata": {},
     "output_type": "execute_result"
    }
   ],
   "source": [
    "scaled_train"
   ]
  },
  {
   "cell_type": "code",
   "execution_count": 25,
   "metadata": {},
   "outputs": [
    {
     "data": {
      "text/plain": [
       "array([[0.24080301],\n",
       "       [0.2575357 ],\n",
       "       [0.25223086],\n",
       "       [0.245293  ],\n",
       "       [0.260835  ],\n",
       "       [0.17805959],\n",
       "       [0.13824172],\n",
       "       [0.23444386],\n",
       "       [0.20992187],\n",
       "       [0.20126451],\n",
       "       [0.22070117],\n",
       "       [0.21203383],\n",
       "       [0.16820823],\n",
       "       [0.111957  ]])"
      ]
     },
     "execution_count": 25,
     "metadata": {},
     "output_type": "execute_result"
    }
   ],
   "source": [
    "scaled_test"
   ]
  },
  {
   "cell_type": "code",
   "execution_count": 26,
   "metadata": {},
   "outputs": [],
   "source": [
    "# define generator\n",
    "n_input = 7\n",
    "n_features = 1\n",
    "generator = TimeseriesGenerator(scaled_train, scaled_train, length=n_input, batch_size=1)"
   ]
  },
  {
   "cell_type": "code",
   "execution_count": 27,
   "metadata": {},
   "outputs": [
    {
     "data": {
      "text/plain": [
       "447"
      ]
     },
     "execution_count": 27,
     "metadata": {},
     "output_type": "execute_result"
    }
   ],
   "source": [
    "len(scaled_train)"
   ]
  },
  {
   "cell_type": "code",
   "execution_count": 28,
   "metadata": {},
   "outputs": [
    {
     "data": {
      "text/plain": [
       "440"
      ]
     },
     "execution_count": 28,
     "metadata": {},
     "output_type": "execute_result"
    }
   ],
   "source": [
    "len(generator)"
   ]
  },
  {
   "cell_type": "code",
   "execution_count": 29,
   "metadata": {},
   "outputs": [],
   "source": [
    "from keras.models import Sequential\n",
    "from keras.layers import Dense\n",
    "from keras.layers import LSTM"
   ]
  },
  {
   "cell_type": "code",
   "execution_count": 30,
   "metadata": {},
   "outputs": [],
   "source": [
    "#Define the model\n",
    "#Here we use stacked LSTM\n",
    "model = Sequential()\n",
    "model.add(LSTM(100, activation='relu', return_sequences=True, input_shape=(n_input, n_features)))\n",
    "model.add(LSTM(100,activation='relu'))\n",
    "model.add(Dense(1))\n",
    "model.compile(optimizer='adam', loss='mse')"
   ]
  },
  {
   "cell_type": "code",
   "execution_count": 31,
   "metadata": {},
   "outputs": [
    {
     "name": "stdout",
     "output_type": "stream",
     "text": [
      "Model: \"sequential\"\n",
      "_________________________________________________________________\n",
      "Layer (type)                 Output Shape              Param #   \n",
      "=================================================================\n",
      "lstm (LSTM)                  (None, 7, 100)            40800     \n",
      "_________________________________________________________________\n",
      "lstm_1 (LSTM)                (None, 100)               80400     \n",
      "_________________________________________________________________\n",
      "dense (Dense)                (None, 1)                 101       \n",
      "=================================================================\n",
      "Total params: 121,301\n",
      "Trainable params: 121,301\n",
      "Non-trainable params: 0\n",
      "_________________________________________________________________\n"
     ]
    }
   ],
   "source": [
    "model.summary()"
   ]
  },
  {
   "cell_type": "code",
   "execution_count": 32,
   "metadata": {},
   "outputs": [
    {
     "name": "stdout",
     "output_type": "stream",
     "text": [
      "WARNING:tensorflow:From <ipython-input-32-91edab4fbc47>:2: Model.fit_generator (from tensorflow.python.keras.engine.training) is deprecated and will be removed in a future version.\n",
      "Instructions for updating:\n",
      "Please use Model.fit, which supports generators.\n",
      "Epoch 1/15\n",
      "440/440 [==============================] - 1s 3ms/step - loss: 0.0092\n",
      "Epoch 2/15\n",
      "440/440 [==============================] - 1s 3ms/step - loss: 0.0049\n",
      "Epoch 3/15\n",
      "440/440 [==============================] - 1s 3ms/step - loss: 0.0049\n",
      "Epoch 4/15\n",
      "440/440 [==============================] - 1s 3ms/step - loss: 0.0053\n",
      "Epoch 5/15\n",
      "440/440 [==============================] - 1s 3ms/step - loss: 0.0051\n",
      "Epoch 6/15\n",
      "440/440 [==============================] - 1s 3ms/step - loss: 0.0043\n",
      "Epoch 7/15\n",
      "440/440 [==============================] - 1s 3ms/step - loss: 0.0043\n",
      "Epoch 8/15\n",
      "440/440 [==============================] - 1s 3ms/step - loss: 0.0045\n",
      "Epoch 9/15\n",
      "440/440 [==============================] - 1s 3ms/step - loss: 0.0037\n",
      "Epoch 10/15\n",
      "440/440 [==============================] - 1s 3ms/step - loss: 0.0039\n",
      "Epoch 11/15\n",
      "440/440 [==============================] - 1s 3ms/step - loss: 0.0041\n",
      "Epoch 12/15\n",
      "440/440 [==============================] - 1s 3ms/step - loss: 0.0040\n",
      "Epoch 13/15\n",
      "440/440 [==============================] - 1s 3ms/step - loss: 0.0041\n",
      "Epoch 14/15\n",
      "440/440 [==============================] - 1s 3ms/step - loss: 0.0036\n",
      "Epoch 15/15\n",
      "440/440 [==============================] - 1s 3ms/step - loss: 0.0037\n"
     ]
    },
    {
     "data": {
      "text/plain": [
       "<tensorflow.python.keras.callbacks.History at 0x28b29fce108>"
      ]
     },
     "execution_count": 32,
     "metadata": {},
     "output_type": "execute_result"
    }
   ],
   "source": [
    "# fit model\n",
    "model.fit_generator(generator,epochs=15)"
   ]
  },
  {
   "cell_type": "code",
   "execution_count": 33,
   "metadata": {},
   "outputs": [
    {
     "data": {
      "text/plain": [
       "dict_keys(['loss'])"
      ]
     },
     "execution_count": 33,
     "metadata": {},
     "output_type": "execute_result"
    }
   ],
   "source": [
    "model.history.history.keys()"
   ]
  },
  {
   "cell_type": "code",
   "execution_count": 34,
   "metadata": {},
   "outputs": [
    {
     "data": {
      "text/plain": [
       "[<matplotlib.lines.Line2D at 0x28b29fce548>]"
      ]
     },
     "execution_count": 34,
     "metadata": {},
     "output_type": "execute_result"
    },
    {
     "data": {
      "image/png": "[encoded data removed]",
      "text/plain": [
       "<Figure size 432x288 with 1 Axes>"
      ]
     },
     "metadata": {
      "needs_background": "light"
     },
     "output_type": "display_data"
    }
   ],
   "source": [
    "loss_per_epoch = model.history.history['loss']\n",
    "plt.plot(range(len(loss_per_epoch)),loss_per_epoch)"
   ]
  },
  {
   "cell_type": "code",
   "execution_count": 35,
   "metadata": {},
   "outputs": [],
   "source": [
    "#test_predictions used to holding my predictions,bcz we wanna later plot it out\n",
    "test_predictions = [] \n",
    "\n",
    "#last n input points from the training set\n",
    "first_eval_batch = scaled_train[-n_input:]\n",
    "#in Above step we grab the first evaluation batch\n",
    "\n",
    "#reshape this to the format RNN wants(same format as TimeSeriesGenerator)\n",
    "current_batch = first_eval_batch.reshape((1,n_input,n_features))\n",
    "\n",
    "\n",
    "#How far into the future will i forecast\n",
    "\n",
    "for i in range(len(test_usa_cases)): #here we are only forecasting to the test length of the future\n",
    "    \n",
    "    #One time step ahead of historical 12 points\n",
    "    current_pred = model.predict(current_batch)[0] #we give 0 here to reshape it to the format we need\n",
    "    \n",
    "    #Store that prediction\n",
    "    test_predictions.append(current_pred)\n",
    "    \n",
    "    #then we are gonna update the current batch to include the prediction\n",
    "    current_batch = np.append(current_batch[:,1:,:],[[current_pred]],axis=1)\n",
    "#rememeber the first current batch is essentailly gonna look like the first evaluation batch"
   ]
  },
  {
   "cell_type": "code",
   "execution_count": 36,
   "metadata": {},
   "outputs": [
    {
     "data": {
      "text/plain": [
       "[array([0.24554226], dtype=float32),\n",
       " array([0.24273783], dtype=float32),\n",
       " array([0.24744606], dtype=float32),\n",
       " array([0.24911678], dtype=float32),\n",
       " array([0.24851075], dtype=float32),\n",
       " array([0.2470378], dtype=float32),\n",
       " array([0.25000593], dtype=float32),\n",
       " array([0.2593161], dtype=float32),\n",
       " array([0.26095244], dtype=float32),\n",
       " array([0.2630979], dtype=float32),\n",
       " array([0.26506975], dtype=float32),\n",
       " array([0.26710021], dtype=float32),\n",
       " array([0.26932678], dtype=float32),\n",
       " array([0.271922], dtype=float32)]"
      ]
     },
     "execution_count": 36,
     "metadata": {},
     "output_type": "execute_result"
    }
   ],
   "source": [
    "test_predictions"
   ]
  },
  {
   "cell_type": "code",
   "execution_count": 37,
   "metadata": {},
   "outputs": [],
   "source": [
    "true_predictions = scaler.inverse_transform(test_predictions)"
   ]
  },
  {
   "cell_type": "code",
   "execution_count": 38,
   "metadata": {},
   "outputs": [
    {
     "data": {
      "text/plain": [
       "array([[73826.94517788],\n",
       "       [72983.74051362],\n",
       "       [74399.35946846],\n",
       "       [74901.69263685],\n",
       "       [74719.4781349 ],\n",
       "       [74276.60773686],\n",
       "       [75169.03316626],\n",
       "       [77968.30849278],\n",
       "       [78460.31004962],\n",
       "       [79105.38612512],\n",
       "       [79698.25754419],\n",
       "       [80308.75453126],\n",
       "       [80978.21249315],\n",
       "       [81758.51350343]])"
      ]
     },
     "execution_count": 38,
     "metadata": {},
     "output_type": "execute_result"
    }
   ],
   "source": [
    "true_predictions"
   ]
  },
  {
   "cell_type": "code",
   "execution_count": 39,
   "metadata": {},
   "outputs": [
    {
     "data": {
      "text/html": [
       "<div>\n",
       "<style scoped>\n",
       "    .dataframe tbody tr th:only-of-type {\n",
       "        vertical-align: middle;\n",
       "    }\n",
       "\n",
       "    .dataframe tbody tr th {\n",
       "        vertical-align: top;\n",
       "    }\n",
       "\n",
       "    .dataframe thead th {\n",
       "        text-align: right;\n",
       "    }\n",
       "</style>\n",
       "<table border=\"1\" class=\"dataframe\">\n",
       "  <thead>\n",
       "    <tr style=\"text-align: right;\">\n",
       "      <th></th>\n",
       "      <th>PEOPLE_POSITIVE_NEW_CASES_COUNT</th>\n",
       "    </tr>\n",
       "    <tr>\n",
       "      <th>REPORT_DATE</th>\n",
       "      <th></th>\n",
       "    </tr>\n",
       "  </thead>\n",
       "  <tbody>\n",
       "    <tr>\n",
       "      <th>2021-04-12</th>\n",
       "      <td>72402</td>\n",
       "    </tr>\n",
       "    <tr>\n",
       "      <th>2021-04-13</th>\n",
       "      <td>77433</td>\n",
       "    </tr>\n",
       "    <tr>\n",
       "      <th>2021-04-14</th>\n",
       "      <td>75838</td>\n",
       "    </tr>\n",
       "    <tr>\n",
       "      <th>2021-04-15</th>\n",
       "      <td>73752</td>\n",
       "    </tr>\n",
       "    <tr>\n",
       "      <th>2021-04-16</th>\n",
       "      <td>78425</td>\n",
       "    </tr>\n",
       "    <tr>\n",
       "      <th>2021-04-17</th>\n",
       "      <td>53537</td>\n",
       "    </tr>\n",
       "    <tr>\n",
       "      <th>2021-04-18</th>\n",
       "      <td>41565</td>\n",
       "    </tr>\n",
       "    <tr>\n",
       "      <th>2021-04-19</th>\n",
       "      <td>70490</td>\n",
       "    </tr>\n",
       "    <tr>\n",
       "      <th>2021-04-20</th>\n",
       "      <td>63117</td>\n",
       "    </tr>\n",
       "    <tr>\n",
       "      <th>2021-04-21</th>\n",
       "      <td>60514</td>\n",
       "    </tr>\n",
       "    <tr>\n",
       "      <th>2021-04-22</th>\n",
       "      <td>66358</td>\n",
       "    </tr>\n",
       "    <tr>\n",
       "      <th>2021-04-23</th>\n",
       "      <td>63752</td>\n",
       "    </tr>\n",
       "    <tr>\n",
       "      <th>2021-04-24</th>\n",
       "      <td>50575</td>\n",
       "    </tr>\n",
       "    <tr>\n",
       "      <th>2021-04-25</th>\n",
       "      <td>33662</td>\n",
       "    </tr>\n",
       "  </tbody>\n",
       "</table>\n",
       "</div>"
      ],
      "text/plain": [
       "             PEOPLE_POSITIVE_NEW_CASES_COUNT\n",
       "REPORT_DATE                                 \n",
       "2021-04-12                             72402\n",
       "2021-04-13                             77433\n",
       "2021-04-14                             75838\n",
       "2021-04-15                             73752\n",
       "2021-04-16                             78425\n",
       "2021-04-17                             53537\n",
       "2021-04-18                             41565\n",
       "2021-04-19                             70490\n",
       "2021-04-20                             63117\n",
       "2021-04-21                             60514\n",
       "2021-04-22                             66358\n",
       "2021-04-23                             63752\n",
       "2021-04-24                             50575\n",
       "2021-04-25                             33662"
      ]
     },
     "execution_count": 39,
     "metadata": {},
     "output_type": "execute_result"
    }
   ],
   "source": [
    "test_usa_cases"
   ]
  },
  {
   "cell_type": "code",
   "execution_count": 40,
   "metadata": {},
   "outputs": [],
   "source": [
    "test_usa_cases['Predictions'] = true_predictions"
   ]
  },
  {
   "cell_type": "code",
   "execution_count": 41,
   "metadata": {},
   "outputs": [
    {
     "data": {
      "text/html": [
       "<div>\n",
       "<style scoped>\n",
       "    .dataframe tbody tr th:only-of-type {\n",
       "        vertical-align: middle;\n",
       "    }\n",
       "\n",
       "    .dataframe tbody tr th {\n",
       "        vertical-align: top;\n",
       "    }\n",
       "\n",
       "    .dataframe thead th {\n",
       "        text-align: right;\n",
       "    }\n",
       "</style>\n",
       "<table border=\"1\" class=\"dataframe\">\n",
       "  <thead>\n",
       "    <tr style=\"text-align: right;\">\n",
       "      <th></th>\n",
       "      <th>PEOPLE_POSITIVE_NEW_CASES_COUNT</th>\n",
       "      <th>Predictions</th>\n",
       "    </tr>\n",
       "    <tr>\n",
       "      <th>REPORT_DATE</th>\n",
       "      <th></th>\n",
       "      <th></th>\n",
       "    </tr>\n",
       "  </thead>\n",
       "  <tbody>\n",
       "    <tr>\n",
       "      <th>2021-04-12</th>\n",
       "      <td>72402</td>\n",
       "      <td>73826.945178</td>\n",
       "    </tr>\n",
       "    <tr>\n",
       "      <th>2021-04-13</th>\n",
       "      <td>77433</td>\n",
       "      <td>72983.740514</td>\n",
       "    </tr>\n",
       "    <tr>\n",
       "      <th>2021-04-14</th>\n",
       "      <td>75838</td>\n",
       "      <td>74399.359468</td>\n",
       "    </tr>\n",
       "    <tr>\n",
       "      <th>2021-04-15</th>\n",
       "      <td>73752</td>\n",
       "      <td>74901.692637</td>\n",
       "    </tr>\n",
       "    <tr>\n",
       "      <th>2021-04-16</th>\n",
       "      <td>78425</td>\n",
       "      <td>74719.478135</td>\n",
       "    </tr>\n",
       "    <tr>\n",
       "      <th>2021-04-17</th>\n",
       "      <td>53537</td>\n",
       "      <td>74276.607737</td>\n",
       "    </tr>\n",
       "    <tr>\n",
       "      <th>2021-04-18</th>\n",
       "      <td>41565</td>\n",
       "      <td>75169.033166</td>\n",
       "    </tr>\n",
       "    <tr>\n",
       "      <th>2021-04-19</th>\n",
       "      <td>70490</td>\n",
       "      <td>77968.308493</td>\n",
       "    </tr>\n",
       "    <tr>\n",
       "      <th>2021-04-20</th>\n",
       "      <td>63117</td>\n",
       "      <td>78460.310050</td>\n",
       "    </tr>\n",
       "    <tr>\n",
       "      <th>2021-04-21</th>\n",
       "      <td>60514</td>\n",
       "      <td>79105.386125</td>\n",
       "    </tr>\n",
       "    <tr>\n",
       "      <th>2021-04-22</th>\n",
       "      <td>66358</td>\n",
       "      <td>79698.257544</td>\n",
       "    </tr>\n",
       "    <tr>\n",
       "      <th>2021-04-23</th>\n",
       "      <td>63752</td>\n",
       "      <td>80308.754531</td>\n",
       "    </tr>\n",
       "    <tr>\n",
       "      <th>2021-04-24</th>\n",
       "      <td>50575</td>\n",
       "      <td>80978.212493</td>\n",
       "    </tr>\n",
       "    <tr>\n",
       "      <th>2021-04-25</th>\n",
       "      <td>33662</td>\n",
       "      <td>81758.513503</td>\n",
       "    </tr>\n",
       "  </tbody>\n",
       "</table>\n",
       "</div>"
      ],
      "text/plain": [
       "             PEOPLE_POSITIVE_NEW_CASES_COUNT   Predictions\n",
       "REPORT_DATE                                               \n",
       "2021-04-12                             72402  73826.945178\n",
       "2021-04-13                             77433  72983.740514\n",
       "2021-04-14                             75838  74399.359468\n",
       "2021-04-15                             73752  74901.692637\n",
       "2021-04-16                             78425  74719.478135\n",
       "2021-04-17                             53537  74276.607737\n",
       "2021-04-18                             41565  75169.033166\n",
       "2021-04-19                             70490  77968.308493\n",
       "2021-04-20                             63117  78460.310050\n",
       "2021-04-21                             60514  79105.386125\n",
       "2021-04-22                             66358  79698.257544\n",
       "2021-04-23                             63752  80308.754531\n",
       "2021-04-24                             50575  80978.212493\n",
       "2021-04-25                             33662  81758.513503"
      ]
     },
     "execution_count": 41,
     "metadata": {},
     "output_type": "execute_result"
    }
   ],
   "source": [
    "test_usa_cases"
   ]
  },
  {
   "cell_type": "code",
   "execution_count": 42,
   "metadata": {},
   "outputs": [
    {
     "data": {
      "text/plain": [
       "<AxesSubplot:xlabel='REPORT_DATE'>"
      ]
     },
     "execution_count": 42,
     "metadata": {},
     "output_type": "execute_result"
    },
    {
     "data": {
      "image/png": "[encoded data removed]",
      "text/plain": [
       "<Figure size 864x576 with 1 Axes>"
      ]
     },
     "metadata": {
      "needs_background": "light"
     },
     "output_type": "display_data"
    }
   ],
   "source": [
    "test_usa_cases.plot(figsize=(12,8))"
   ]
  },
  {
   "cell_type": "code",
   "execution_count": null,
   "metadata": {},
   "outputs": [],
   "source": []
  }
 ],
 "metadata": {
  "kernelspec": {
   "display_name": "Python 3",
   "language": "python",
   "name": "python3"
  },
  "language_info": {
   "codemirror_mode": {
    "name": "ipython",
    "version": 3
   },
   "file_extension": ".py",
   "mimetype": "text/x-python",
   "name": "python",
   "nbconvert_exporter": "python",
   "pygments_lexer": "ipython3",
   "version": "3.7.10"
  }
 },
 "nbformat": 4,
 "nbformat_minor": 4
}
