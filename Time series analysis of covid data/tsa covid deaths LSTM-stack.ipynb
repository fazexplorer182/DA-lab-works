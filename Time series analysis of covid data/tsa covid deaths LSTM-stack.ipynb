{
 "cells": [
  {
   "cell_type": "markdown",
   "metadata": {},
   "source": [
    "# Import the libraries"
   ]
  },
  {
   "cell_type": "code",
   "execution_count": 965,
   "metadata": {},
   "outputs": [],
   "source": [
    "import pandas as pd\n",
    "import numpy as np\n",
    "import matplotlib.pyplot as plt\n",
    "import warnings\n",
    "warnings.filterwarnings('ignore')\n",
    "#plt.style.use('fivethirtyeight')\n",
    "import statsmodels.api as sm"
   ]
  },
  {
   "cell_type": "markdown",
   "metadata": {},
   "source": [
    "# Import the dataset"
   ]
  },
  {
   "cell_type": "code",
   "execution_count": 966,
   "metadata": {},
   "outputs": [
    {
     "data": {
      "text/html": [
       "<div>\n",
       "<style scoped>\n",
       "    .dataframe tbody tr th:only-of-type {\n",
       "        vertical-align: middle;\n",
       "    }\n",
       "\n",
       "    .dataframe tbody tr th {\n",
       "        vertical-align: top;\n",
       "    }\n",
       "\n",
       "    .dataframe thead th {\n",
       "        text-align: right;\n",
       "    }\n",
       "</style>\n",
       "<table border=\"1\" class=\"dataframe\">\n",
       "  <thead>\n",
       "    <tr style=\"text-align: right;\">\n",
       "      <th></th>\n",
       "      <th>PEOPLE_POSITIVE_CASES_COUNT</th>\n",
       "      <th>COUNTY_NAME</th>\n",
       "      <th>PROVINCE_STATE_NAME</th>\n",
       "      <th>REPORT_DATE</th>\n",
       "      <th>CONTINENT_NAME</th>\n",
       "      <th>DATA_SOURCE_NAME</th>\n",
       "      <th>PEOPLE_DEATH_NEW_COUNT</th>\n",
       "      <th>COUNTY_FIPS_NUMBER</th>\n",
       "      <th>COUNTRY_ALPHA_3_CODE</th>\n",
       "      <th>COUNTRY_SHORT_NAME</th>\n",
       "      <th>COUNTRY_ALPHA_2_CODE</th>\n",
       "      <th>PEOPLE_POSITIVE_NEW_CASES_COUNT</th>\n",
       "      <th>PEOPLE_DEATH_COUNT</th>\n",
       "    </tr>\n",
       "  </thead>\n",
       "  <tbody>\n",
       "    <tr>\n",
       "      <th>0</th>\n",
       "      <td>7844</td>\n",
       "      <td>Oneida</td>\n",
       "      <td>New York</td>\n",
       "      <td>2020-12-13</td>\n",
       "      <td>America</td>\n",
       "      <td>New York Times</td>\n",
       "      <td>1</td>\n",
       "      <td>36065.0</td>\n",
       "      <td>USA</td>\n",
       "      <td>United States</td>\n",
       "      <td>US</td>\n",
       "      <td>237</td>\n",
       "      <td>188</td>\n",
       "    </tr>\n",
       "    <tr>\n",
       "      <th>1</th>\n",
       "      <td>1830</td>\n",
       "      <td>Oneida</td>\n",
       "      <td>New York</td>\n",
       "      <td>2020-07-13</td>\n",
       "      <td>America</td>\n",
       "      <td>New York Times</td>\n",
       "      <td>3</td>\n",
       "      <td>36065.0</td>\n",
       "      <td>USA</td>\n",
       "      <td>United States</td>\n",
       "      <td>US</td>\n",
       "      <td>7</td>\n",
       "      <td>104</td>\n",
       "    </tr>\n",
       "    <tr>\n",
       "      <th>2</th>\n",
       "      <td>1776</td>\n",
       "      <td>Oneida</td>\n",
       "      <td>New York</td>\n",
       "      <td>2020-07-08</td>\n",
       "      <td>America</td>\n",
       "      <td>New York Times</td>\n",
       "      <td>1</td>\n",
       "      <td>36065.0</td>\n",
       "      <td>USA</td>\n",
       "      <td>United States</td>\n",
       "      <td>US</td>\n",
       "      <td>16</td>\n",
       "      <td>99</td>\n",
       "    </tr>\n",
       "    <tr>\n",
       "      <th>3</th>\n",
       "      <td>19215</td>\n",
       "      <td>Oneida</td>\n",
       "      <td>New York</td>\n",
       "      <td>2021-02-16</td>\n",
       "      <td>America</td>\n",
       "      <td>New York Times</td>\n",
       "      <td>2</td>\n",
       "      <td>36065.0</td>\n",
       "      <td>USA</td>\n",
       "      <td>United States</td>\n",
       "      <td>US</td>\n",
       "      <td>29</td>\n",
       "      <td>462</td>\n",
       "    </tr>\n",
       "    <tr>\n",
       "      <th>4</th>\n",
       "      <td>676</td>\n",
       "      <td>Oneida</td>\n",
       "      <td>New York</td>\n",
       "      <td>2020-05-12</td>\n",
       "      <td>America</td>\n",
       "      <td>New York Times</td>\n",
       "      <td>1</td>\n",
       "      <td>36065.0</td>\n",
       "      <td>USA</td>\n",
       "      <td>United States</td>\n",
       "      <td>US</td>\n",
       "      <td>7</td>\n",
       "      <td>26</td>\n",
       "    </tr>\n",
       "    <tr>\n",
       "      <th>...</th>\n",
       "      <td>...</td>\n",
       "      <td>...</td>\n",
       "      <td>...</td>\n",
       "      <td>...</td>\n",
       "      <td>...</td>\n",
       "      <td>...</td>\n",
       "      <td>...</td>\n",
       "      <td>...</td>\n",
       "      <td>...</td>\n",
       "      <td>...</td>\n",
       "      <td>...</td>\n",
       "      <td>...</td>\n",
       "      <td>...</td>\n",
       "    </tr>\n",
       "    <tr>\n",
       "      <th>1634240</th>\n",
       "      <td>0</td>\n",
       "      <td>NaN</td>\n",
       "      <td>NaN</td>\n",
       "      <td>2020-01-21</td>\n",
       "      <td>America</td>\n",
       "      <td>JHU CSSE Global Timeseries</td>\n",
       "      <td>0</td>\n",
       "      <td>NaN</td>\n",
       "      <td>MAF</td>\n",
       "      <td>St Martin</td>\n",
       "      <td>MF</td>\n",
       "      <td>0</td>\n",
       "      <td>0</td>\n",
       "    </tr>\n",
       "    <tr>\n",
       "      <th>1634241</th>\n",
       "      <td>0</td>\n",
       "      <td>NaN</td>\n",
       "      <td>Macau</td>\n",
       "      <td>2020-01-21</td>\n",
       "      <td>Asia</td>\n",
       "      <td>JHU CSSE Global Timeseries</td>\n",
       "      <td>0</td>\n",
       "      <td>NaN</td>\n",
       "      <td>CHN</td>\n",
       "      <td>China</td>\n",
       "      <td>CN</td>\n",
       "      <td>0</td>\n",
       "      <td>0</td>\n",
       "    </tr>\n",
       "    <tr>\n",
       "      <th>1634242</th>\n",
       "      <td>0</td>\n",
       "      <td>NaN</td>\n",
       "      <td>NaN</td>\n",
       "      <td>2020-01-21</td>\n",
       "      <td>America</td>\n",
       "      <td>JHU CSSE Global Timeseries</td>\n",
       "      <td>0</td>\n",
       "      <td>NaN</td>\n",
       "      <td>BRB</td>\n",
       "      <td>Barbados</td>\n",
       "      <td>BB</td>\n",
       "      <td>0</td>\n",
       "      <td>0</td>\n",
       "    </tr>\n",
       "    <tr>\n",
       "      <th>1634243</th>\n",
       "      <td>0</td>\n",
       "      <td>NaN</td>\n",
       "      <td>NaN</td>\n",
       "      <td>2020-01-21</td>\n",
       "      <td>Europe</td>\n",
       "      <td>JHU CSSE Global Timeseries</td>\n",
       "      <td>0</td>\n",
       "      <td>NaN</td>\n",
       "      <td>RUS</td>\n",
       "      <td>Russia</td>\n",
       "      <td>RU</td>\n",
       "      <td>0</td>\n",
       "      <td>0</td>\n",
       "    </tr>\n",
       "    <tr>\n",
       "      <th>1634244</th>\n",
       "      <td>0</td>\n",
       "      <td>NaN</td>\n",
       "      <td>NaN</td>\n",
       "      <td>2020-01-21</td>\n",
       "      <td>Africa</td>\n",
       "      <td>JHU CSSE Global Timeseries</td>\n",
       "      <td>0</td>\n",
       "      <td>NaN</td>\n",
       "      <td>NER</td>\n",
       "      <td>Niger</td>\n",
       "      <td>NE</td>\n",
       "      <td>0</td>\n",
       "      <td>0</td>\n",
       "    </tr>\n",
       "  </tbody>\n",
       "</table>\n",
       "<p>1634245 rows × 13 columns</p>\n",
       "</div>"
      ],
      "text/plain": [
       "         PEOPLE_POSITIVE_CASES_COUNT COUNTY_NAME PROVINCE_STATE_NAME  \\\n",
       "0                               7844      Oneida            New York   \n",
       "1                               1830      Oneida            New York   \n",
       "2                               1776      Oneida            New York   \n",
       "3                              19215      Oneida            New York   \n",
       "4                                676      Oneida            New York   \n",
       "...                              ...         ...                 ...   \n",
       "1634240                            0         NaN                 NaN   \n",
       "1634241                            0         NaN               Macau   \n",
       "1634242                            0         NaN                 NaN   \n",
       "1634243                            0         NaN                 NaN   \n",
       "1634244                            0         NaN                 NaN   \n",
       "\n",
       "        REPORT_DATE CONTINENT_NAME            DATA_SOURCE_NAME  \\\n",
       "0        2020-12-13        America              New York Times   \n",
       "1        2020-07-13        America              New York Times   \n",
       "2        2020-07-08        America              New York Times   \n",
       "3        2021-02-16        America              New York Times   \n",
       "4        2020-05-12        America              New York Times   \n",
       "...             ...            ...                         ...   \n",
       "1634240  2020-01-21        America  JHU CSSE Global Timeseries   \n",
       "1634241  2020-01-21           Asia  JHU CSSE Global Timeseries   \n",
       "1634242  2020-01-21        America  JHU CSSE Global Timeseries   \n",
       "1634243  2020-01-21         Europe  JHU CSSE Global Timeseries   \n",
       "1634244  2020-01-21         Africa  JHU CSSE Global Timeseries   \n",
       "\n",
       "         PEOPLE_DEATH_NEW_COUNT  COUNTY_FIPS_NUMBER COUNTRY_ALPHA_3_CODE  \\\n",
       "0                             1             36065.0                  USA   \n",
       "1                             3             36065.0                  USA   \n",
       "2                             1             36065.0                  USA   \n",
       "3                             2             36065.0                  USA   \n",
       "4                             1             36065.0                  USA   \n",
       "...                         ...                 ...                  ...   \n",
       "1634240                       0                 NaN                  MAF   \n",
       "1634241                       0                 NaN                  CHN   \n",
       "1634242                       0                 NaN                  BRB   \n",
       "1634243                       0                 NaN                  RUS   \n",
       "1634244                       0                 NaN                  NER   \n",
       "\n",
       "        COUNTRY_SHORT_NAME COUNTRY_ALPHA_2_CODE  \\\n",
       "0            United States                   US   \n",
       "1            United States                   US   \n",
       "2            United States                   US   \n",
       "3            United States                   US   \n",
       "4            United States                   US   \n",
       "...                    ...                  ...   \n",
       "1634240          St Martin                   MF   \n",
       "1634241              China                   CN   \n",
       "1634242           Barbados                   BB   \n",
       "1634243             Russia                   RU   \n",
       "1634244              Niger                   NE   \n",
       "\n",
       "         PEOPLE_POSITIVE_NEW_CASES_COUNT  PEOPLE_DEATH_COUNT  \n",
       "0                                    237                 188  \n",
       "1                                      7                 104  \n",
       "2                                     16                  99  \n",
       "3                                     29                 462  \n",
       "4                                      7                  26  \n",
       "...                                  ...                 ...  \n",
       "1634240                                0                   0  \n",
       "1634241                                0                   0  \n",
       "1634242                                0                   0  \n",
       "1634243                                0                   0  \n",
       "1634244                                0                   0  \n",
       "\n",
       "[1634245 rows x 13 columns]"
      ]
     },
     "execution_count": 966,
     "metadata": {},
     "output_type": "execute_result"
    }
   ],
   "source": [
    "df = pd.read_csv('cov_tsa.csv',parse_dates=['REPORT_DATE'])\n",
    "df"
   ]
  },
  {
   "cell_type": "markdown",
   "metadata": {},
   "source": [
    "#### Check for missing data"
   ]
  },
  {
   "cell_type": "code",
   "execution_count": 967,
   "metadata": {},
   "outputs": [
    {
     "data": {
      "text/plain": [
       "PEOPLE_POSITIVE_CASES_COUNT             0\n",
       "COUNTY_NAME                        124931\n",
       "PROVINCE_STATE_NAME                 98654\n",
       "REPORT_DATE                             0\n",
       "CONTINENT_NAME                       1844\n",
       "DATA_SOURCE_NAME                        0\n",
       "PEOPLE_DEATH_NEW_COUNT                  0\n",
       "COUNTY_FIPS_NUMBER                 150747\n",
       "COUNTRY_ALPHA_3_CODE                 1844\n",
       "COUNTRY_SHORT_NAME                      0\n",
       "COUNTRY_ALPHA_2_CODE                 2305\n",
       "PEOPLE_POSITIVE_NEW_CASES_COUNT         0\n",
       "PEOPLE_DEATH_COUNT                      0\n",
       "dtype: int64"
      ]
     },
     "execution_count": 967,
     "metadata": {},
     "output_type": "execute_result"
    }
   ],
   "source": [
    "df.isna().sum()"
   ]
  },
  {
   "cell_type": "markdown",
   "metadata": {},
   "source": [
    "###### Remove unwanted columns"
   ]
  },
  {
   "cell_type": "code",
   "execution_count": 968,
   "metadata": {},
   "outputs": [
    {
     "data": {
      "text/html": [
       "<div>\n",
       "<style scoped>\n",
       "    .dataframe tbody tr th:only-of-type {\n",
       "        vertical-align: middle;\n",
       "    }\n",
       "\n",
       "    .dataframe tbody tr th {\n",
       "        vertical-align: top;\n",
       "    }\n",
       "\n",
       "    .dataframe thead th {\n",
       "        text-align: right;\n",
       "    }\n",
       "</style>\n",
       "<table border=\"1\" class=\"dataframe\">\n",
       "  <thead>\n",
       "    <tr style=\"text-align: right;\">\n",
       "      <th></th>\n",
       "      <th>REPORT_DATE</th>\n",
       "      <th>PEOPLE_DEATH_NEW_COUNT</th>\n",
       "      <th>COUNTRY_SHORT_NAME</th>\n",
       "      <th>PEOPLE_POSITIVE_NEW_CASES_COUNT</th>\n",
       "    </tr>\n",
       "  </thead>\n",
       "  <tbody>\n",
       "    <tr>\n",
       "      <th>0</th>\n",
       "      <td>2020-12-13</td>\n",
       "      <td>1</td>\n",
       "      <td>United States</td>\n",
       "      <td>237</td>\n",
       "    </tr>\n",
       "    <tr>\n",
       "      <th>1</th>\n",
       "      <td>2020-07-13</td>\n",
       "      <td>3</td>\n",
       "      <td>United States</td>\n",
       "      <td>7</td>\n",
       "    </tr>\n",
       "    <tr>\n",
       "      <th>2</th>\n",
       "      <td>2020-07-08</td>\n",
       "      <td>1</td>\n",
       "      <td>United States</td>\n",
       "      <td>16</td>\n",
       "    </tr>\n",
       "    <tr>\n",
       "      <th>3</th>\n",
       "      <td>2021-02-16</td>\n",
       "      <td>2</td>\n",
       "      <td>United States</td>\n",
       "      <td>29</td>\n",
       "    </tr>\n",
       "    <tr>\n",
       "      <th>4</th>\n",
       "      <td>2020-05-12</td>\n",
       "      <td>1</td>\n",
       "      <td>United States</td>\n",
       "      <td>7</td>\n",
       "    </tr>\n",
       "  </tbody>\n",
       "</table>\n",
       "</div>"
      ],
      "text/plain": [
       "  REPORT_DATE  PEOPLE_DEATH_NEW_COUNT COUNTRY_SHORT_NAME  \\\n",
       "0  2020-12-13                       1      United States   \n",
       "1  2020-07-13                       3      United States   \n",
       "2  2020-07-08                       1      United States   \n",
       "3  2021-02-16                       2      United States   \n",
       "4  2020-05-12                       1      United States   \n",
       "\n",
       "   PEOPLE_POSITIVE_NEW_CASES_COUNT  \n",
       "0                              237  \n",
       "1                                7  \n",
       "2                               16  \n",
       "3                               29  \n",
       "4                                7  "
      ]
     },
     "execution_count": 968,
     "metadata": {},
     "output_type": "execute_result"
    }
   ],
   "source": [
    "cols=['PEOPLE_POSITIVE_CASES_COUNT','COUNTY_NAME','PROVINCE_STATE_NAME','CONTINENT_NAME','DATA_SOURCE_NAME','COUNTY_FIPS_NUMBER','COUNTRY_ALPHA_3_CODE','COUNTRY_ALPHA_2_CODE','PEOPLE_DEATH_COUNT']\n",
    "df.drop(cols,axis=1,inplace=True)\n",
    "df.head()"
   ]
  },
  {
   "cell_type": "markdown",
   "metadata": {},
   "source": [
    "###### Again check for missing data"
   ]
  },
  {
   "cell_type": "code",
   "execution_count": 969,
   "metadata": {},
   "outputs": [
    {
     "data": {
      "text/plain": [
       "REPORT_DATE                        0\n",
       "PEOPLE_DEATH_NEW_COUNT             0\n",
       "COUNTRY_SHORT_NAME                 0\n",
       "PEOPLE_POSITIVE_NEW_CASES_COUNT    0\n",
       "dtype: int64"
      ]
     },
     "execution_count": 969,
     "metadata": {},
     "output_type": "execute_result"
    }
   ],
   "source": [
    "df.isna().sum()"
   ]
  },
  {
   "cell_type": "markdown",
   "metadata": {},
   "source": [
    "###### Take only datas of USA"
   ]
  },
  {
   "cell_type": "code",
   "execution_count": 970,
   "metadata": {},
   "outputs": [
    {
     "data": {
      "text/html": [
       "<div>\n",
       "<style scoped>\n",
       "    .dataframe tbody tr th:only-of-type {\n",
       "        vertical-align: middle;\n",
       "    }\n",
       "\n",
       "    .dataframe tbody tr th {\n",
       "        vertical-align: top;\n",
       "    }\n",
       "\n",
       "    .dataframe thead th {\n",
       "        text-align: right;\n",
       "    }\n",
       "</style>\n",
       "<table border=\"1\" class=\"dataframe\">\n",
       "  <thead>\n",
       "    <tr style=\"text-align: right;\">\n",
       "      <th></th>\n",
       "      <th>REPORT_DATE</th>\n",
       "      <th>PEOPLE_DEATH_NEW_COUNT</th>\n",
       "      <th>COUNTRY_SHORT_NAME</th>\n",
       "      <th>PEOPLE_POSITIVE_NEW_CASES_COUNT</th>\n",
       "    </tr>\n",
       "  </thead>\n",
       "  <tbody>\n",
       "    <tr>\n",
       "      <th>0</th>\n",
       "      <td>2020-12-13</td>\n",
       "      <td>1</td>\n",
       "      <td>United States</td>\n",
       "      <td>237</td>\n",
       "    </tr>\n",
       "    <tr>\n",
       "      <th>1</th>\n",
       "      <td>2020-07-13</td>\n",
       "      <td>3</td>\n",
       "      <td>United States</td>\n",
       "      <td>7</td>\n",
       "    </tr>\n",
       "    <tr>\n",
       "      <th>2</th>\n",
       "      <td>2020-07-08</td>\n",
       "      <td>1</td>\n",
       "      <td>United States</td>\n",
       "      <td>16</td>\n",
       "    </tr>\n",
       "    <tr>\n",
       "      <th>3</th>\n",
       "      <td>2021-02-16</td>\n",
       "      <td>2</td>\n",
       "      <td>United States</td>\n",
       "      <td>29</td>\n",
       "    </tr>\n",
       "    <tr>\n",
       "      <th>4</th>\n",
       "      <td>2020-05-12</td>\n",
       "      <td>1</td>\n",
       "      <td>United States</td>\n",
       "      <td>7</td>\n",
       "    </tr>\n",
       "    <tr>\n",
       "      <th>...</th>\n",
       "      <td>...</td>\n",
       "      <td>...</td>\n",
       "      <td>...</td>\n",
       "      <td>...</td>\n",
       "    </tr>\n",
       "    <tr>\n",
       "      <th>1538886</th>\n",
       "      <td>2020-01-21</td>\n",
       "      <td>0</td>\n",
       "      <td>United States</td>\n",
       "      <td>0</td>\n",
       "    </tr>\n",
       "    <tr>\n",
       "      <th>1538887</th>\n",
       "      <td>2020-01-21</td>\n",
       "      <td>0</td>\n",
       "      <td>United States</td>\n",
       "      <td>0</td>\n",
       "    </tr>\n",
       "    <tr>\n",
       "      <th>1538888</th>\n",
       "      <td>2020-01-21</td>\n",
       "      <td>0</td>\n",
       "      <td>United States</td>\n",
       "      <td>0</td>\n",
       "    </tr>\n",
       "    <tr>\n",
       "      <th>1538889</th>\n",
       "      <td>2020-01-21</td>\n",
       "      <td>0</td>\n",
       "      <td>United States</td>\n",
       "      <td>0</td>\n",
       "    </tr>\n",
       "    <tr>\n",
       "      <th>1538890</th>\n",
       "      <td>2020-01-21</td>\n",
       "      <td>0</td>\n",
       "      <td>United States</td>\n",
       "      <td>0</td>\n",
       "    </tr>\n",
       "  </tbody>\n",
       "</table>\n",
       "<p>1509314 rows × 4 columns</p>\n",
       "</div>"
      ],
      "text/plain": [
       "        REPORT_DATE  PEOPLE_DEATH_NEW_COUNT COUNTRY_SHORT_NAME  \\\n",
       "0        2020-12-13                       1      United States   \n",
       "1        2020-07-13                       3      United States   \n",
       "2        2020-07-08                       1      United States   \n",
       "3        2021-02-16                       2      United States   \n",
       "4        2020-05-12                       1      United States   \n",
       "...             ...                     ...                ...   \n",
       "1538886  2020-01-21                       0      United States   \n",
       "1538887  2020-01-21                       0      United States   \n",
       "1538888  2020-01-21                       0      United States   \n",
       "1538889  2020-01-21                       0      United States   \n",
       "1538890  2020-01-21                       0      United States   \n",
       "\n",
       "         PEOPLE_POSITIVE_NEW_CASES_COUNT  \n",
       "0                                    237  \n",
       "1                                      7  \n",
       "2                                     16  \n",
       "3                                     29  \n",
       "4                                      7  \n",
       "...                                  ...  \n",
       "1538886                                0  \n",
       "1538887                                0  \n",
       "1538888                                0  \n",
       "1538889                                0  \n",
       "1538890                                0  \n",
       "\n",
       "[1509314 rows x 4 columns]"
      ]
     },
     "execution_count": 970,
     "metadata": {},
     "output_type": "execute_result"
    }
   ],
   "source": [
    "usa = df[df['COUNTRY_SHORT_NAME']=='United States']\n",
    "usa"
   ]
  },
  {
   "cell_type": "markdown",
   "metadata": {},
   "source": [
    "###### Take deaths data"
   ]
  },
  {
   "cell_type": "code",
   "execution_count": 971,
   "metadata": {},
   "outputs": [
    {
     "data": {
      "text/html": [
       "<div>\n",
       "<style scoped>\n",
       "    .dataframe tbody tr th:only-of-type {\n",
       "        vertical-align: middle;\n",
       "    }\n",
       "\n",
       "    .dataframe tbody tr th {\n",
       "        vertical-align: top;\n",
       "    }\n",
       "\n",
       "    .dataframe thead th {\n",
       "        text-align: right;\n",
       "    }\n",
       "</style>\n",
       "<table border=\"1\" class=\"dataframe\">\n",
       "  <thead>\n",
       "    <tr style=\"text-align: right;\">\n",
       "      <th></th>\n",
       "      <th>REPORT_DATE</th>\n",
       "      <th>PEOPLE_DEATH_NEW_COUNT</th>\n",
       "    </tr>\n",
       "  </thead>\n",
       "  <tbody>\n",
       "    <tr>\n",
       "      <th>0</th>\n",
       "      <td>2020-12-13</td>\n",
       "      <td>1</td>\n",
       "    </tr>\n",
       "    <tr>\n",
       "      <th>1</th>\n",
       "      <td>2020-07-13</td>\n",
       "      <td>3</td>\n",
       "    </tr>\n",
       "    <tr>\n",
       "      <th>2</th>\n",
       "      <td>2020-07-08</td>\n",
       "      <td>1</td>\n",
       "    </tr>\n",
       "    <tr>\n",
       "      <th>3</th>\n",
       "      <td>2021-02-16</td>\n",
       "      <td>2</td>\n",
       "    </tr>\n",
       "    <tr>\n",
       "      <th>4</th>\n",
       "      <td>2020-05-12</td>\n",
       "      <td>1</td>\n",
       "    </tr>\n",
       "    <tr>\n",
       "      <th>...</th>\n",
       "      <td>...</td>\n",
       "      <td>...</td>\n",
       "    </tr>\n",
       "    <tr>\n",
       "      <th>1538886</th>\n",
       "      <td>2020-01-21</td>\n",
       "      <td>0</td>\n",
       "    </tr>\n",
       "    <tr>\n",
       "      <th>1538887</th>\n",
       "      <td>2020-01-21</td>\n",
       "      <td>0</td>\n",
       "    </tr>\n",
       "    <tr>\n",
       "      <th>1538888</th>\n",
       "      <td>2020-01-21</td>\n",
       "      <td>0</td>\n",
       "    </tr>\n",
       "    <tr>\n",
       "      <th>1538889</th>\n",
       "      <td>2020-01-21</td>\n",
       "      <td>0</td>\n",
       "    </tr>\n",
       "    <tr>\n",
       "      <th>1538890</th>\n",
       "      <td>2020-01-21</td>\n",
       "      <td>0</td>\n",
       "    </tr>\n",
       "  </tbody>\n",
       "</table>\n",
       "<p>1509314 rows × 2 columns</p>\n",
       "</div>"
      ],
      "text/plain": [
       "        REPORT_DATE  PEOPLE_DEATH_NEW_COUNT\n",
       "0        2020-12-13                       1\n",
       "1        2020-07-13                       3\n",
       "2        2020-07-08                       1\n",
       "3        2021-02-16                       2\n",
       "4        2020-05-12                       1\n",
       "...             ...                     ...\n",
       "1538886  2020-01-21                       0\n",
       "1538887  2020-01-21                       0\n",
       "1538888  2020-01-21                       0\n",
       "1538889  2020-01-21                       0\n",
       "1538890  2020-01-21                       0\n",
       "\n",
       "[1509314 rows x 2 columns]"
      ]
     },
     "execution_count": 971,
     "metadata": {},
     "output_type": "execute_result"
    }
   ],
   "source": [
    "usa_deaths = usa[['REPORT_DATE','PEOPLE_DEATH_NEW_COUNT']]\n",
    "usa_deaths"
   ]
  },
  {
   "cell_type": "markdown",
   "metadata": {},
   "source": [
    "###### Aggregate the case reports happened on same dates"
   ]
  },
  {
   "cell_type": "code",
   "execution_count": 972,
   "metadata": {},
   "outputs": [
    {
     "data": {
      "text/html": [
       "<div>\n",
       "<style scoped>\n",
       "    .dataframe tbody tr th:only-of-type {\n",
       "        vertical-align: middle;\n",
       "    }\n",
       "\n",
       "    .dataframe tbody tr th {\n",
       "        vertical-align: top;\n",
       "    }\n",
       "\n",
       "    .dataframe thead th {\n",
       "        text-align: right;\n",
       "    }\n",
       "</style>\n",
       "<table border=\"1\" class=\"dataframe\">\n",
       "  <thead>\n",
       "    <tr style=\"text-align: right;\">\n",
       "      <th></th>\n",
       "      <th>REPORT_DATE</th>\n",
       "      <th>PEOPLE_DEATH_NEW_COUNT</th>\n",
       "    </tr>\n",
       "  </thead>\n",
       "  <tbody>\n",
       "    <tr>\n",
       "      <th>0</th>\n",
       "      <td>2020-01-21</td>\n",
       "      <td>0</td>\n",
       "    </tr>\n",
       "    <tr>\n",
       "      <th>1</th>\n",
       "      <td>2020-01-22</td>\n",
       "      <td>0</td>\n",
       "    </tr>\n",
       "    <tr>\n",
       "      <th>2</th>\n",
       "      <td>2020-01-23</td>\n",
       "      <td>0</td>\n",
       "    </tr>\n",
       "    <tr>\n",
       "      <th>3</th>\n",
       "      <td>2020-01-24</td>\n",
       "      <td>0</td>\n",
       "    </tr>\n",
       "    <tr>\n",
       "      <th>4</th>\n",
       "      <td>2020-01-25</td>\n",
       "      <td>0</td>\n",
       "    </tr>\n",
       "    <tr>\n",
       "      <th>...</th>\n",
       "      <td>...</td>\n",
       "      <td>...</td>\n",
       "    </tr>\n",
       "    <tr>\n",
       "      <th>456</th>\n",
       "      <td>2021-04-21</td>\n",
       "      <td>-125</td>\n",
       "    </tr>\n",
       "    <tr>\n",
       "      <th>457</th>\n",
       "      <td>2021-04-22</td>\n",
       "      <td>911</td>\n",
       "    </tr>\n",
       "    <tr>\n",
       "      <th>458</th>\n",
       "      <td>2021-04-23</td>\n",
       "      <td>873</td>\n",
       "    </tr>\n",
       "    <tr>\n",
       "      <th>459</th>\n",
       "      <td>2021-04-24</td>\n",
       "      <td>725</td>\n",
       "    </tr>\n",
       "    <tr>\n",
       "      <th>460</th>\n",
       "      <td>2021-04-25</td>\n",
       "      <td>282</td>\n",
       "    </tr>\n",
       "  </tbody>\n",
       "</table>\n",
       "<p>461 rows × 2 columns</p>\n",
       "</div>"
      ],
      "text/plain": [
       "    REPORT_DATE  PEOPLE_DEATH_NEW_COUNT\n",
       "0    2020-01-21                       0\n",
       "1    2020-01-22                       0\n",
       "2    2020-01-23                       0\n",
       "3    2020-01-24                       0\n",
       "4    2020-01-25                       0\n",
       "..          ...                     ...\n",
       "456  2021-04-21                    -125\n",
       "457  2021-04-22                     911\n",
       "458  2021-04-23                     873\n",
       "459  2021-04-24                     725\n",
       "460  2021-04-25                     282\n",
       "\n",
       "[461 rows x 2 columns]"
      ]
     },
     "execution_count": 972,
     "metadata": {},
     "output_type": "execute_result"
    }
   ],
   "source": [
    "usa_deaths = usa_deaths.groupby('REPORT_DATE')['PEOPLE_DEATH_NEW_COUNT'].sum().reset_index()\n",
    "usa_deaths"
   ]
  },
  {
   "cell_type": "markdown",
   "metadata": {},
   "source": [
    "###### Change the index of the dataframe to dates"
   ]
  },
  {
   "cell_type": "code",
   "execution_count": 973,
   "metadata": {},
   "outputs": [
    {
     "data": {
      "text/html": [
       "<div>\n",
       "<style scoped>\n",
       "    .dataframe tbody tr th:only-of-type {\n",
       "        vertical-align: middle;\n",
       "    }\n",
       "\n",
       "    .dataframe tbody tr th {\n",
       "        vertical-align: top;\n",
       "    }\n",
       "\n",
       "    .dataframe thead th {\n",
       "        text-align: right;\n",
       "    }\n",
       "</style>\n",
       "<table border=\"1\" class=\"dataframe\">\n",
       "  <thead>\n",
       "    <tr style=\"text-align: right;\">\n",
       "      <th></th>\n",
       "      <th>PEOPLE_DEATH_NEW_COUNT</th>\n",
       "    </tr>\n",
       "    <tr>\n",
       "      <th>REPORT_DATE</th>\n",
       "      <th></th>\n",
       "    </tr>\n",
       "  </thead>\n",
       "  <tbody>\n",
       "    <tr>\n",
       "      <th>2020-01-21</th>\n",
       "      <td>0</td>\n",
       "    </tr>\n",
       "    <tr>\n",
       "      <th>2020-01-22</th>\n",
       "      <td>0</td>\n",
       "    </tr>\n",
       "    <tr>\n",
       "      <th>2020-01-23</th>\n",
       "      <td>0</td>\n",
       "    </tr>\n",
       "    <tr>\n",
       "      <th>2020-01-24</th>\n",
       "      <td>0</td>\n",
       "    </tr>\n",
       "    <tr>\n",
       "      <th>2020-01-25</th>\n",
       "      <td>0</td>\n",
       "    </tr>\n",
       "    <tr>\n",
       "      <th>...</th>\n",
       "      <td>...</td>\n",
       "    </tr>\n",
       "    <tr>\n",
       "      <th>2021-04-21</th>\n",
       "      <td>-125</td>\n",
       "    </tr>\n",
       "    <tr>\n",
       "      <th>2021-04-22</th>\n",
       "      <td>911</td>\n",
       "    </tr>\n",
       "    <tr>\n",
       "      <th>2021-04-23</th>\n",
       "      <td>873</td>\n",
       "    </tr>\n",
       "    <tr>\n",
       "      <th>2021-04-24</th>\n",
       "      <td>725</td>\n",
       "    </tr>\n",
       "    <tr>\n",
       "      <th>2021-04-25</th>\n",
       "      <td>282</td>\n",
       "    </tr>\n",
       "  </tbody>\n",
       "</table>\n",
       "<p>461 rows × 1 columns</p>\n",
       "</div>"
      ],
      "text/plain": [
       "             PEOPLE_DEATH_NEW_COUNT\n",
       "REPORT_DATE                        \n",
       "2020-01-21                        0\n",
       "2020-01-22                        0\n",
       "2020-01-23                        0\n",
       "2020-01-24                        0\n",
       "2020-01-25                        0\n",
       "...                             ...\n",
       "2021-04-21                     -125\n",
       "2021-04-22                      911\n",
       "2021-04-23                      873\n",
       "2021-04-24                      725\n",
       "2021-04-25                      282\n",
       "\n",
       "[461 rows x 1 columns]"
      ]
     },
     "execution_count": 973,
     "metadata": {},
     "output_type": "execute_result"
    }
   ],
   "source": [
    "usa_deaths = usa_deaths.set_index('REPORT_DATE')\n",
    "usa_deaths"
   ]
  },
  {
   "cell_type": "code",
   "execution_count": 974,
   "metadata": {},
   "outputs": [
    {
     "data": {
      "text/plain": [
       "PEOPLE_DEATH_NEW_COUNT   -125\n",
       "Name: 2021-04-21 00:00:00, dtype: int64"
      ]
     },
     "execution_count": 974,
     "metadata": {},
     "output_type": "execute_result"
    }
   ],
   "source": [
    "#we found that there is an error in one record .it's given as negative value\n",
    "usa_deaths.loc['2021-04-21']"
   ]
  },
  {
   "cell_type": "code",
   "execution_count": 975,
   "metadata": {},
   "outputs": [],
   "source": [
    "usa_deaths.loc['2021-04-21'] = 125"
   ]
  },
  {
   "cell_type": "code",
   "execution_count": 976,
   "metadata": {},
   "outputs": [
    {
     "data": {
      "text/plain": [
       "PEOPLE_DEATH_NEW_COUNT    125\n",
       "Name: 2021-04-21 00:00:00, dtype: int64"
      ]
     },
     "execution_count": 976,
     "metadata": {},
     "output_type": "execute_result"
    }
   ],
   "source": [
    "usa_deaths.loc['2021-04-21']"
   ]
  },
  {
   "cell_type": "markdown",
   "metadata": {},
   "source": [
    "###### Check the frequency followed by index dates"
   ]
  },
  {
   "cell_type": "code",
   "execution_count": 977,
   "metadata": {},
   "outputs": [
    {
     "data": {
      "text/plain": [
       "DatetimeIndex(['2020-01-21', '2020-01-22', '2020-01-23', '2020-01-24',\n",
       "               '2020-01-25', '2020-01-26', '2020-01-27', '2020-01-28',\n",
       "               '2020-01-29', '2020-01-30',\n",
       "               ...\n",
       "               '2021-04-16', '2021-04-17', '2021-04-18', '2021-04-19',\n",
       "               '2021-04-20', '2021-04-21', '2021-04-22', '2021-04-23',\n",
       "               '2021-04-24', '2021-04-25'],\n",
       "              dtype='datetime64[ns]', name='REPORT_DATE', length=461, freq=None)"
      ]
     },
     "execution_count": 977,
     "metadata": {},
     "output_type": "execute_result"
    }
   ],
   "source": [
    "usa_deaths.index"
   ]
  },
  {
   "cell_type": "markdown",
   "metadata": {},
   "source": [
    "###### Indicate the frequency is happening by day"
   ]
  },
  {
   "cell_type": "code",
   "execution_count": 978,
   "metadata": {},
   "outputs": [],
   "source": [
    "usa_deaths.index.freq='D'"
   ]
  },
  {
   "cell_type": "code",
   "execution_count": 979,
   "metadata": {},
   "outputs": [
    {
     "data": {
      "text/plain": [
       "DatetimeIndex(['2020-01-21', '2020-01-22', '2020-01-23', '2020-01-24',\n",
       "               '2020-01-25', '2020-01-26', '2020-01-27', '2020-01-28',\n",
       "               '2020-01-29', '2020-01-30',\n",
       "               ...\n",
       "               '2021-04-16', '2021-04-17', '2021-04-18', '2021-04-19',\n",
       "               '2021-04-20', '2021-04-21', '2021-04-22', '2021-04-23',\n",
       "               '2021-04-24', '2021-04-25'],\n",
       "              dtype='datetime64[ns]', name='REPORT_DATE', length=461, freq='D')"
      ]
     },
     "execution_count": 979,
     "metadata": {},
     "output_type": "execute_result"
    }
   ],
   "source": [
    "usa_deaths.index"
   ]
  },
  {
   "cell_type": "markdown",
   "metadata": {},
   "source": [
    "# ets decomposition"
   ]
  },
  {
   "cell_type": "code",
   "execution_count": 980,
   "metadata": {},
   "outputs": [
    {
     "data": {
      "image/png": "[encoded data removed]",
      "text/plain": [
       "<Figure size 1296x576 with 4 Axes>"
      ]
     },
     "metadata": {
      "needs_background": "light"
     },
     "output_type": "display_data"
    }
   ],
   "source": [
    "from pylab import rcParams\n",
    "rcParams['figure.figsize']=18,8\n",
    "decomposition_usa_deaths = sm.tsa.seasonal_decompose(usa_deaths,model='additive')\n",
    "decomposition_usa_deaths.plot();"
   ]
  },
  {
   "cell_type": "code",
   "execution_count": 981,
   "metadata": {},
   "outputs": [
    {
     "data": {
      "image/png": "[encoded data removed]",
      "text/plain": [
       "<Figure size 1296x576 with 1 Axes>"
      ]
     },
     "metadata": {
      "needs_background": "light"
     },
     "output_type": "display_data"
    }
   ],
   "source": [
    "decomposition_usa_deaths.seasonal.plot();"
   ]
  },
  {
   "cell_type": "markdown",
   "metadata": {},
   "source": [
    "# Train test split"
   ]
  },
  {
   "cell_type": "code",
   "execution_count": 982,
   "metadata": {},
   "outputs": [
    {
     "data": {
      "text/plain": [
       "461"
      ]
     },
     "execution_count": 982,
     "metadata": {},
     "output_type": "execute_result"
    }
   ],
   "source": [
    "len(usa_deaths)"
   ]
  },
  {
   "cell_type": "code",
   "execution_count": 983,
   "metadata": {},
   "outputs": [
    {
     "data": {
      "text/plain": [
       "447"
      ]
     },
     "execution_count": 983,
     "metadata": {},
     "output_type": "execute_result"
    }
   ],
   "source": [
    "len(usa_deaths)-14"
   ]
  },
  {
   "cell_type": "code",
   "execution_count": 984,
   "metadata": {},
   "outputs": [],
   "source": [
    "train_usa_deaths = usa_deaths.iloc[:447]\n",
    "test_usa_deaths = usa_deaths.iloc[447:]"
   ]
  },
  {
   "cell_type": "code",
   "execution_count": 985,
   "metadata": {},
   "outputs": [
    {
     "data": {
      "text/plain": [
       "14"
      ]
     },
     "execution_count": 985,
     "metadata": {},
     "output_type": "execute_result"
    }
   ],
   "source": [
    "len(test_usa_deaths)"
   ]
  },
  {
   "cell_type": "markdown",
   "metadata": {},
   "source": [
    "# Scale Data"
   ]
  },
  {
   "cell_type": "code",
   "execution_count": 986,
   "metadata": {},
   "outputs": [],
   "source": [
    "from sklearn.preprocessing import MinMaxScaler"
   ]
  },
  {
   "cell_type": "code",
   "execution_count": 987,
   "metadata": {},
   "outputs": [],
   "source": [
    "scaler = MinMaxScaler()"
   ]
  },
  {
   "cell_type": "code",
   "execution_count": 988,
   "metadata": {},
   "outputs": [
    {
     "data": {
      "text/plain": [
       "MinMaxScaler()"
      ]
     },
     "execution_count": 988,
     "metadata": {},
     "output_type": "execute_result"
    }
   ],
   "source": [
    "scaler.fit(train_usa_deaths)"
   ]
  },
  {
   "cell_type": "code",
   "execution_count": 989,
   "metadata": {},
   "outputs": [],
   "source": [
    "scaled_train = scaler.transform(train_usa_deaths)\n",
    "scaled_test = scaler.transform(test_usa_deaths)"
   ]
  },
  {
   "cell_type": "markdown",
   "metadata": {},
   "source": [
    "# Time Series Generator"
   ]
  },
  {
   "cell_type": "code",
   "execution_count": 990,
   "metadata": {},
   "outputs": [],
   "source": [
    "from keras.preprocessing.sequence import TimeseriesGenerator"
   ]
  },
  {
   "cell_type": "code",
   "execution_count": 991,
   "metadata": {},
   "outputs": [
    {
     "data": {
      "text/plain": [
       "array([[0.00000000e+00],\n",
       "       [0.00000000e+00],\n",
       "       [0.00000000e+00],\n",
       "       [0.00000000e+00],\n",
       "       [0.00000000e+00],\n",
       "       [0.00000000e+00],\n",
       "       [0.00000000e+00],\n",
       "       [0.00000000e+00],\n",
       "       [0.00000000e+00],\n",
       "       [0.00000000e+00],\n",
       "       [0.00000000e+00],\n",
       "       [0.00000000e+00],\n",
       "       [0.00000000e+00],\n",
       "       [0.00000000e+00],\n",
       "       [0.00000000e+00],\n",
       "       [0.00000000e+00],\n",
       "       [0.00000000e+00],\n",
       "       [0.00000000e+00],\n",
       "       [0.00000000e+00],\n",
       "       [0.00000000e+00],\n",
       "       [0.00000000e+00],\n",
       "       [0.00000000e+00],\n",
       "       [0.00000000e+00],\n",
       "       [0.00000000e+00],\n",
       "       [0.00000000e+00],\n",
       "       [0.00000000e+00],\n",
       "       [0.00000000e+00],\n",
       "       [0.00000000e+00],\n",
       "       [0.00000000e+00],\n",
       "       [0.00000000e+00],\n",
       "       [0.00000000e+00],\n",
       "       [0.00000000e+00],\n",
       "       [0.00000000e+00],\n",
       "       [0.00000000e+00],\n",
       "       [0.00000000e+00],\n",
       "       [0.00000000e+00],\n",
       "       [0.00000000e+00],\n",
       "       [0.00000000e+00],\n",
       "       [0.00000000e+00],\n",
       "       [1.83049606e-04],\n",
       "       [3.66099213e-04],\n",
       "       [5.49148819e-04],\n",
       "       [7.32198426e-04],\n",
       "       [3.66099213e-04],\n",
       "       [0.00000000e+00],\n",
       "       [5.49148819e-04],\n",
       "       [7.32198426e-04],\n",
       "       [5.49148819e-04],\n",
       "       [7.32198426e-04],\n",
       "       [9.15248032e-04],\n",
       "       [1.09829764e-03],\n",
       "       [1.09829764e-03],\n",
       "       [1.28134725e-03],\n",
       "       [1.83049606e-03],\n",
       "       [1.46439685e-03],\n",
       "       [4.21014095e-03],\n",
       "       [4.75928977e-03],\n",
       "       [8.23723229e-03],\n",
       "       [9.15248032e-03],\n",
       "       [1.18982244e-02],\n",
       "       [1.51931173e-02],\n",
       "       [1.79388614e-02],\n",
       "       [2.21490024e-02],\n",
       "       [3.77082189e-02],\n",
       "       [4.92403441e-02],\n",
       "       [5.47318323e-02],\n",
       "       [7.54164379e-02],\n",
       "       [9.64671426e-02],\n",
       "       [7.59655867e-02],\n",
       "       [1.18433095e-01],\n",
       "       [1.71151382e-01],\n",
       "       [1.89639392e-01],\n",
       "       [2.22588321e-01],\n",
       "       [2.54622003e-01],\n",
       "       [2.84825188e-01],\n",
       "       [2.50411862e-01],\n",
       "       [2.79333699e-01],\n",
       "       [4.08932821e-01],\n",
       "       [3.81658429e-01],\n",
       "       [3.88065166e-01],\n",
       "       [4.14241259e-01],\n",
       "       [3.81475380e-01],\n",
       "       [3.07706388e-01],\n",
       "       [3.22899506e-01],\n",
       "       [4.95149185e-01],\n",
       "       [5.03752517e-01],\n",
       "       [4.29800476e-01],\n",
       "       [4.19000549e-01],\n",
       "       [3.57312832e-01],\n",
       "       [2.78235402e-01],\n",
       "       [3.36262127e-01],\n",
       "       [4.89108548e-01],\n",
       "       [4.34010617e-01],\n",
       "       [3.97034596e-01],\n",
       "       [3.90261761e-01],\n",
       "       [3.59875526e-01],\n",
       "       [2.29544206e-01],\n",
       "       [2.63957532e-01],\n",
       "       [4.38220758e-01],\n",
       "       [4.60186711e-01],\n",
       "       [4.04539630e-01],\n",
       "       [3.22533407e-01],\n",
       "       [2.89767527e-01],\n",
       "       [2.43639026e-01],\n",
       "       [1.99341021e-01],\n",
       "       [4.08932821e-01],\n",
       "       [4.95698334e-01],\n",
       "       [3.58411129e-01],\n",
       "       [2.88303130e-01],\n",
       "       [2.66154128e-01],\n",
       "       [1.70419184e-01],\n",
       "       [1.79754714e-01],\n",
       "       [3.02580999e-01],\n",
       "       [3.23631704e-01],\n",
       "       [3.18140216e-01],\n",
       "       [2.91598023e-01],\n",
       "       [2.24235768e-01],\n",
       "       [1.54493868e-01],\n",
       "       [1.53761669e-01],\n",
       "       [2.78235402e-01],\n",
       "       [2.71462566e-01],\n",
       "       [2.39978034e-01],\n",
       "       [2.35767893e-01],\n",
       "       [1.92202087e-01],\n",
       "       [1.13490756e-01],\n",
       "       [9.33552993e-02],\n",
       "       [1.36738056e-01],\n",
       "       [2.71828666e-01],\n",
       "       [2.19659528e-01],\n",
       "       [2.17829032e-01],\n",
       "       [1.76276771e-01],\n",
       "       [1.10561962e-01],\n",
       "       [1.34358411e-01],\n",
       "       [1.98059674e-01],\n",
       "       [1.81036061e-01],\n",
       "       [1.84514003e-01],\n",
       "       [2.03551162e-01],\n",
       "       [1.33260113e-01],\n",
       "       [7.13893465e-02],\n",
       "       [1.32161816e-01],\n",
       "       [1.88541095e-01],\n",
       "       [1.70053084e-01],\n",
       "       [1.60534505e-01],\n",
       "       [1.42595643e-01],\n",
       "       [1.26670328e-01],\n",
       "       [5.80267252e-02],\n",
       "       [8.20062237e-02],\n",
       "       [1.40765147e-01],\n",
       "       [1.37836354e-01],\n",
       "       [1.32894014e-01],\n",
       "       [1.29416072e-01],\n",
       "       [9.99450851e-02],\n",
       "       [4.70437489e-02],\n",
       "       [6.58978583e-02],\n",
       "       [1.52480322e-01],\n",
       "       [1.40399048e-01],\n",
       "       [4.51400329e-01],\n",
       "       [1.15870401e-01],\n",
       "       [9.35383489e-02],\n",
       "       [4.96064433e-02],\n",
       "       [6.35182134e-02],\n",
       "       [2.37964488e-01],\n",
       "       [1.17517847e-01],\n",
       "       [1.32344865e-01],\n",
       "       [1.08182317e-01],\n",
       "       [4.77759473e-02],\n",
       "       [4.79589969e-02],\n",
       "       [7.15723961e-02],\n",
       "       [1.75361523e-01],\n",
       "       [1.73531027e-01],\n",
       "       [1.53944719e-01],\n",
       "       [1.51565074e-01],\n",
       "       [1.23558484e-01],\n",
       "       [7.23045945e-02],\n",
       "       [7.77960827e-02],\n",
       "       [1.74629325e-01],\n",
       "       [1.77741168e-01],\n",
       "       [1.75361523e-01],\n",
       "       [1.64927695e-01],\n",
       "       [1.41863445e-01],\n",
       "       [7.54164379e-02],\n",
       "       [9.71993410e-02],\n",
       "       [2.06296906e-01],\n",
       "       [2.07944353e-01],\n",
       "       [2.04283361e-01],\n",
       "       [2.09774849e-01],\n",
       "       [1.61815852e-01],\n",
       "       [8.05418268e-02],\n",
       "       [3.10452133e-01],\n",
       "       [2.42906828e-01],\n",
       "       [2.55537251e-01],\n",
       "       [2.30825554e-01],\n",
       "       [2.61577888e-01],\n",
       "       [1.93117335e-01],\n",
       "       [7.68808347e-02],\n",
       "       [1.11294161e-01],\n",
       "       [2.48215266e-01],\n",
       "       [2.29361157e-01],\n",
       "       [1.96046129e-01],\n",
       "       [2.48215266e-01],\n",
       "       [1.76825920e-01],\n",
       "       [9.86637379e-02],\n",
       "       [9.82976387e-02],\n",
       "       [2.65604979e-01],\n",
       "       [2.70547318e-01],\n",
       "       [2.22039173e-01],\n",
       "       [2.15266337e-01],\n",
       "       [1.93849533e-01],\n",
       "       [9.42705473e-02],\n",
       "       [9.77484898e-02],\n",
       "       [2.46933919e-01],\n",
       "       [2.37049240e-01],\n",
       "       [1.90920740e-01],\n",
       "       [2.12520593e-01],\n",
       "       [1.73897126e-01],\n",
       "       [8.16401245e-02],\n",
       "       [9.22570016e-02],\n",
       "       [2.22039173e-01],\n",
       "       [2.18378180e-01],\n",
       "       [2.06113857e-01],\n",
       "       [1.84880103e-01],\n",
       "       [1.59436207e-01],\n",
       "       [6.84605528e-02],\n",
       "       [8.93282079e-02],\n",
       "       [1.99707121e-01],\n",
       "       [1.96961377e-01],\n",
       "       [1.97327476e-01],\n",
       "       [1.79388614e-01],\n",
       "       [1.30331320e-01],\n",
       "       [7.52333882e-02],\n",
       "       [4.81420465e-02],\n",
       "       [8.38367198e-02],\n",
       "       [2.15083288e-01],\n",
       "       [1.67490390e-01],\n",
       "       [2.24601867e-01],\n",
       "       [1.28317774e-01],\n",
       "       [7.30367930e-02],\n",
       "       [8.23723229e-02],\n",
       "       [2.34486546e-01],\n",
       "       [1.82500458e-01],\n",
       "       [1.55409116e-01],\n",
       "       [1.73714077e-01],\n",
       "       [1.22643236e-01],\n",
       "       [3.89895662e-02],\n",
       "       [7.87113308e-02],\n",
       "       [1.72249680e-01],\n",
       "       [1.99524071e-01],\n",
       "       [1.61998902e-01],\n",
       "       [1.56141314e-01],\n",
       "       [1.40765147e-01],\n",
       "       [4.88742449e-02],\n",
       "       [6.40673623e-02],\n",
       "       [1.69503936e-01],\n",
       "       [1.78290317e-01],\n",
       "       [1.55043017e-01],\n",
       "       [1.58337910e-01],\n",
       "       [1.29782171e-01],\n",
       "       [6.09555189e-02],\n",
       "       [7.85282812e-02],\n",
       "       [1.31978766e-01],\n",
       "       [1.82317408e-01],\n",
       "       [1.69870035e-01],\n",
       "       [1.67490390e-01],\n",
       "       [1.08365367e-01],\n",
       "       [7.66977851e-02],\n",
       "       [6.42504119e-02],\n",
       "       [1.51198975e-01],\n",
       "       [1.84697053e-01],\n",
       "       [1.45158338e-01],\n",
       "       [1.63097199e-01],\n",
       "       [1.24107633e-01],\n",
       "       [7.08401977e-02],\n",
       "       [9.46366465e-02],\n",
       "       [1.70053084e-01],\n",
       "       [2.21123925e-01],\n",
       "       [1.51565074e-01],\n",
       "       [1.70236134e-01],\n",
       "       [1.59619257e-01],\n",
       "       [6.20538166e-02],\n",
       "       [9.82976387e-02],\n",
       "       [1.79937763e-01],\n",
       "       [1.86344499e-01],\n",
       "       [1.83781805e-01],\n",
       "       [1.77192019e-01],\n",
       "       [1.53395570e-01],\n",
       "       [7.83452316e-02],\n",
       "       [9.88467875e-02],\n",
       "       [2.06846055e-01],\n",
       "       [2.95808164e-01],\n",
       "       [2.02818964e-01],\n",
       "       [2.28445909e-01],\n",
       "       [1.84330954e-01],\n",
       "       [8.49350174e-02],\n",
       "       [1.36371957e-01],\n",
       "       [2.67984624e-01],\n",
       "       [2.61943987e-01],\n",
       "       [2.14534139e-01],\n",
       "       [2.54438953e-01],\n",
       "       [2.21490024e-01],\n",
       "       [1.14039905e-01],\n",
       "       [1.45707487e-01],\n",
       "       [2.94160718e-01],\n",
       "       [3.52187443e-01],\n",
       "       [3.58960278e-01],\n",
       "       [3.58228080e-01],\n",
       "       [2.60845689e-01],\n",
       "       [1.54310818e-01],\n",
       "       [1.90005491e-01],\n",
       "       [4.04356581e-01],\n",
       "       [4.23393740e-01],\n",
       "       [2.15632436e-01],\n",
       "       [2.58466044e-01],\n",
       "       [2.18195131e-01],\n",
       "       [1.49734578e-01],\n",
       "       [2.32473000e-01],\n",
       "       [4.77393374e-01],\n",
       "       [5.28281164e-01],\n",
       "       [5.22789676e-01],\n",
       "       [4.82701812e-01],\n",
       "       [4.00878638e-01],\n",
       "       [2.03368113e-01],\n",
       "       [2.80798096e-01],\n",
       "       [5.16382940e-01],\n",
       "       [5.77704558e-01],\n",
       "       [5.38348893e-01],\n",
       "       [5.40911587e-01],\n",
       "       [4.12776863e-01],\n",
       "       [2.48398316e-01],\n",
       "       [3.07157240e-01],\n",
       "       [5.53725059e-01],\n",
       "       [6.60992129e-01],\n",
       "       [6.03697602e-01],\n",
       "       [5.25352370e-01],\n",
       "       [4.68790042e-01],\n",
       "       [2.61577888e-01],\n",
       "       [3.59326377e-01],\n",
       "       [5.92897675e-01],\n",
       "       [6.24565257e-01],\n",
       "       [5.16932089e-01],\n",
       "       [2.06663006e-01],\n",
       "       [3.01299652e-01],\n",
       "       [2.25151016e-01],\n",
       "       [3.47611203e-01],\n",
       "       [6.64103972e-01],\n",
       "       [6.97052901e-01],\n",
       "       [6.33717738e-01],\n",
       "       [3.51455244e-01],\n",
       "       [4.34376716e-01],\n",
       "       [2.47300018e-01],\n",
       "       [3.75068644e-01],\n",
       "       [6.75269998e-01],\n",
       "       [7.25608640e-01],\n",
       "       [7.52516932e-01],\n",
       "       [7.12978217e-01],\n",
       "       [5.96924767e-01],\n",
       "       [3.25279151e-01],\n",
       "       [3.74885594e-01],\n",
       "       [8.06516566e-01],\n",
       "       [7.19384953e-01],\n",
       "       [7.28537434e-01],\n",
       "       [6.86252975e-01],\n",
       "       [6.11568735e-01],\n",
       "       [3.16675819e-01],\n",
       "       [2.63774483e-01],\n",
       "       [5.07230459e-01],\n",
       "       [8.01757276e-01],\n",
       "       [7.56910123e-01],\n",
       "       [6.82958082e-01],\n",
       "       [6.08090793e-01],\n",
       "       [3.32235036e-01],\n",
       "       [3.49075599e-01],\n",
       "       [7.49954238e-01],\n",
       "       [7.51052535e-01],\n",
       "       [7.08035878e-01],\n",
       "       [6.58978583e-01],\n",
       "       [4.83434011e-01],\n",
       "       [3.41204466e-01],\n",
       "       [3.56946733e-01],\n",
       "       [6.60992129e-01],\n",
       "       [7.03459638e-01],\n",
       "       [9.36664836e-01],\n",
       "       [6.53487095e-01],\n",
       "       [4.87278052e-01],\n",
       "       [2.38147538e-01],\n",
       "       [2.89767527e-01],\n",
       "       [5.80267252e-01],\n",
       "       [5.95643419e-01],\n",
       "       [7.09866374e-01],\n",
       "       [1.00000000e+00],\n",
       "       [6.17243273e-01],\n",
       "       [1.97876625e-01],\n",
       "       [1.81951309e-01],\n",
       "       [3.12465678e-01],\n",
       "       [4.52315578e-01],\n",
       "       [4.80505217e-01],\n",
       "       [4.79773018e-01],\n",
       "       [3.35163829e-01],\n",
       "       [2.28262859e-01],\n",
       "       [2.66154128e-01],\n",
       "       [4.26139484e-01],\n",
       "       [5.87589237e-01],\n",
       "       [4.51217280e-01],\n",
       "       [3.98315944e-01],\n",
       "       [2.86838733e-01],\n",
       "       [2.06663006e-01],\n",
       "       [2.60845689e-01],\n",
       "       [2.39062786e-01],\n",
       "       [4.33644518e-01],\n",
       "       [3.56763683e-01],\n",
       "       [4.54512173e-01],\n",
       "       [2.67069376e-01],\n",
       "       [1.23741534e-01],\n",
       "       [1.50100677e-01],\n",
       "       [3.45048508e-01],\n",
       "       [2.69815120e-01],\n",
       "       [2.78967600e-01],\n",
       "       [3.12099579e-01],\n",
       "       [3.38641772e-01],\n",
       "       [1.04155226e-01],\n",
       "       [1.37836354e-01],\n",
       "       [2.27713710e-01],\n",
       "       [2.15449387e-01],\n",
       "       [2.84825188e-01],\n",
       "       [2.77137104e-01],\n",
       "       [1.41314296e-01],\n",
       "       [8.20062237e-02],\n",
       "       [1.18616145e-01],\n",
       "       [1.63280249e-01],\n",
       "       [2.91048874e-01],\n",
       "       [2.32473000e-01],\n",
       "       [2.30642504e-01],\n",
       "       [1.42778693e-01],\n",
       "       [8.96943072e-02],\n",
       "       [1.25755080e-01],\n",
       "       [1.73347977e-01],\n",
       "       [2.07761303e-01],\n",
       "       [1.75361523e-01],\n",
       "       [1.74812374e-01],\n",
       "       [1.37836354e-01],\n",
       "       [4.97894930e-02],\n",
       "       [9.70162914e-02],\n",
       "       [1.66392092e-01],\n",
       "       [4.70620538e-01],\n",
       "       [1.83415706e-01],\n",
       "       [1.73164928e-01],\n",
       "       [1.28866923e-01],\n",
       "       [5.50979315e-02]])"
      ]
     },
     "execution_count": 991,
     "metadata": {},
     "output_type": "execute_result"
    }
   ],
   "source": [
    "scaled_train"
   ]
  },
  {
   "cell_type": "code",
   "execution_count": 992,
   "metadata": {},
   "outputs": [
    {
     "data": {
      "text/plain": [
       "array([[0.08511807],\n",
       "       [0.17993776],\n",
       "       [0.17115138],\n",
       "       [0.16785649],\n",
       "       [0.17096833],\n",
       "       [0.12392458],\n",
       "       [0.06553176],\n",
       "       [0.08877906],\n",
       "       [0.32875709],\n",
       "       [0.0228812 ],\n",
       "       [0.16675819],\n",
       "       [0.15980231],\n",
       "       [0.13271096],\n",
       "       [0.05161999]])"
      ]
     },
     "execution_count": 992,
     "metadata": {},
     "output_type": "execute_result"
    }
   ],
   "source": [
    "scaled_test"
   ]
  },
  {
   "cell_type": "code",
   "execution_count": 993,
   "metadata": {},
   "outputs": [],
   "source": [
    "# define generator\n",
    "n_input = 7\n",
    "n_features = 1\n",
    "generator = TimeseriesGenerator(scaled_train, scaled_train, length=n_input, batch_size=1)"
   ]
  },
  {
   "cell_type": "code",
   "execution_count": 994,
   "metadata": {},
   "outputs": [
    {
     "data": {
      "text/plain": [
       "447"
      ]
     },
     "execution_count": 994,
     "metadata": {},
     "output_type": "execute_result"
    }
   ],
   "source": [
    "len(scaled_train)"
   ]
  },
  {
   "cell_type": "code",
   "execution_count": 995,
   "metadata": {},
   "outputs": [
    {
     "data": {
      "text/plain": [
       "440"
      ]
     },
     "execution_count": 995,
     "metadata": {},
     "output_type": "execute_result"
    }
   ],
   "source": [
    "len(generator)"
   ]
  },
  {
   "cell_type": "code",
   "execution_count": 996,
   "metadata": {},
   "outputs": [],
   "source": [
    "from keras.models import Sequential\n",
    "from keras.layers import Dense\n",
    "from keras.layers import LSTM"
   ]
  },
  {
   "cell_type": "code",
   "execution_count": 997,
   "metadata": {},
   "outputs": [],
   "source": [
    "#Define the model\n",
    "#Here we use stacked LSTM\n",
    "model = Sequential()\n",
    "model.add(LSTM(100, activation='relu', return_sequences=True, input_shape=(n_input, n_features)))\n",
    "model.add(LSTM(50, activation='relu'))\n",
    "model.add(Dense(1))\n",
    "model.compile(optimizer='adam', loss='mse')"
   ]
  },
  {
   "cell_type": "code",
   "execution_count": 998,
   "metadata": {},
   "outputs": [],
   "source": [
    "# define model\n",
    "#model = Sequential()\n",
    "#model.add(LSTM(200, activation='relu', input_shape=(n_input, n_features)))\n",
    "#model.add(Dense(1))\n",
    "#model.compile(optimizer='adam', loss='mse')"
   ]
  },
  {
   "cell_type": "code",
   "execution_count": 999,
   "metadata": {},
   "outputs": [
    {
     "name": "stdout",
     "output_type": "stream",
     "text": [
      "Model: \"sequential_21\"\n",
      "_________________________________________________________________\n",
      "Layer (type)                 Output Shape              Param #   \n",
      "=================================================================\n",
      "lstm_36 (LSTM)               (None, 7, 100)            40800     \n",
      "_________________________________________________________________\n",
      "lstm_37 (LSTM)               (None, 50)                30200     \n",
      "_________________________________________________________________\n",
      "dense_20 (Dense)             (None, 1)                 51        \n",
      "=================================================================\n",
      "Total params: 71,051\n",
      "Trainable params: 71,051\n",
      "Non-trainable params: 0\n",
      "_________________________________________________________________\n"
     ]
    }
   ],
   "source": [
    "model.summary()"
   ]
  },
  {
   "cell_type": "code",
   "execution_count": 1000,
   "metadata": {},
   "outputs": [
    {
     "name": "stdout",
     "output_type": "stream",
     "text": [
      "Epoch 1/15\n",
      "440/440 [==============================] - 4s 5ms/step - loss: 0.0189\n",
      "Epoch 2/15\n",
      "440/440 [==============================] - 2s 5ms/step - loss: 0.0134\n",
      "Epoch 3/15\n",
      "440/440 [==============================] - 2s 5ms/step - loss: 0.0113\n",
      "Epoch 4/15\n",
      "440/440 [==============================] - 2s 5ms/step - loss: 0.0112\n",
      "Epoch 5/15\n",
      "440/440 [==============================] - 2s 5ms/step - loss: 0.0086\n",
      "Epoch 6/15\n",
      "440/440 [==============================] - 2s 5ms/step - loss: 0.0084\n",
      "Epoch 7/15\n",
      "440/440 [==============================] - 2s 5ms/step - loss: 0.0087\n",
      "Epoch 8/15\n",
      "440/440 [==============================] - 3s 7ms/step - loss: 0.0092\n",
      "Epoch 9/15\n",
      "440/440 [==============================] - 3s 6ms/step - loss: 0.0082\n",
      "Epoch 10/15\n",
      "440/440 [==============================] - 3s 6ms/step - loss: 0.0072\n",
      "Epoch 11/15\n",
      "440/440 [==============================] - 3s 6ms/step - loss: 0.0076\n",
      "Epoch 12/15\n",
      "440/440 [==============================] - 3s 7ms/step - loss: 0.0064\n",
      "Epoch 13/15\n",
      "440/440 [==============================] - 3s 6ms/step - loss: 0.0072\n",
      "Epoch 14/15\n",
      "440/440 [==============================] - 2s 6ms/step - loss: 0.0096\n",
      "Epoch 15/15\n",
      "440/440 [==============================] - 3s 6ms/step - loss: 0.0066\n"
     ]
    },
    {
     "data": {
      "text/plain": [
       "<tensorflow.python.keras.callbacks.History at 0x267a48f6160>"
      ]
     },
     "execution_count": 1000,
     "metadata": {},
     "output_type": "execute_result"
    }
   ],
   "source": [
    "# fit model\n",
    "model.fit_generator(generator,epochs=15)"
   ]
  },
  {
   "cell_type": "code",
   "execution_count": 1001,
   "metadata": {},
   "outputs": [
    {
     "data": {
      "text/plain": [
       "dict_keys(['loss'])"
      ]
     },
     "execution_count": 1001,
     "metadata": {},
     "output_type": "execute_result"
    }
   ],
   "source": [
    "model.history.history.keys()"
   ]
  },
  {
   "cell_type": "code",
   "execution_count": 1002,
   "metadata": {},
   "outputs": [
    {
     "data": {
      "text/plain": [
       "[<matplotlib.lines.Line2D at 0x267b1cc0580>]"
      ]
     },
     "execution_count": 1002,
     "metadata": {},
     "output_type": "execute_result"
    },
    {
     "data": {
      "image/png": "[encoded data removed]",
      "text/plain": [
       "<Figure size 1296x576 with 1 Axes>"
      ]
     },
     "metadata": {
      "needs_background": "light"
     },
     "output_type": "display_data"
    }
   ],
   "source": [
    "loss_per_epoch = model.history.history['loss']\n",
    "plt.plot(range(len(loss_per_epoch)),loss_per_epoch)"
   ]
  },
  {
   "cell_type": "code",
   "execution_count": 1003,
   "metadata": {},
   "outputs": [],
   "source": [
    "#test_predictions used to holding my predictions,bcz we wanna later plot it out\n",
    "test_predictions = [] \n",
    "\n",
    "#last n input points from the training set\n",
    "first_eval_batch = scaled_train[-n_input:]\n",
    "#in Above step we grab the first evaluation batch\n",
    "\n",
    "#reshape this to the format RNN wants(same format as TimeSeriesGenerator)\n",
    "current_batch = first_eval_batch.reshape((1,n_input,n_features))\n",
    "\n",
    "\n",
    "#How far into the future will i forecast\n",
    "\n",
    "for i in range(len(test_usa_deaths)): #here we are only forecasting to the test length of the future\n",
    "    \n",
    "    #One time step ahead of historical 12 points\n",
    "    current_pred = model.predict(current_batch)[0] #we give 0 here to reshape it to the format we need\n",
    "    \n",
    "    #Store that prediction\n",
    "    test_predictions.append(current_pred)\n",
    "    \n",
    "    #then we are gonna update the current batch to include the prediction\n",
    "    current_batch = np.append(current_batch[:,1:,:],[[current_pred]],axis=1)\n",
    "#rememeber the first current batch is essentailly gonna look like the first evaluation batch"
   ]
  },
  {
   "cell_type": "code",
   "execution_count": 1004,
   "metadata": {},
   "outputs": [
    {
     "data": {
      "text/plain": [
       "[array([0.13722382], dtype=float32),\n",
       " array([0.18536153], dtype=float32),\n",
       " array([0.32456172], dtype=float32),\n",
       " array([0.1903669], dtype=float32),\n",
       " array([0.18146685], dtype=float32),\n",
       " array([0.14227763], dtype=float32),\n",
       " array([0.12313793], dtype=float32),\n",
       " array([0.16396323], dtype=float32),\n",
       " array([0.19710678], dtype=float32),\n",
       " array([0.2587262], dtype=float32),\n",
       " array([0.19872405], dtype=float32),\n",
       " array([0.19189501], dtype=float32),\n",
       " array([0.16319174], dtype=float32),\n",
       " array([0.1550598], dtype=float32)]"
      ]
     },
     "execution_count": 1004,
     "metadata": {},
     "output_type": "execute_result"
    }
   ],
   "source": [
    "test_predictions"
   ]
  },
  {
   "cell_type": "code",
   "execution_count": 1005,
   "metadata": {},
   "outputs": [],
   "source": [
    "true_predictions = scaler.inverse_transform(test_predictions)"
   ]
  },
  {
   "cell_type": "code",
   "execution_count": 1006,
   "metadata": {},
   "outputs": [
    {
     "data": {
      "text/plain": [
       "array([[ 749.6537552 ],\n",
       "       [1012.63006219],\n",
       "       [1773.08064973],\n",
       "       [1039.97434196],\n",
       "       [ 991.35338876],\n",
       "       [ 777.26268277],\n",
       "       [ 672.70250364],\n",
       "       [ 895.7311171 ],\n",
       "       [1076.79433161],\n",
       "       [1413.42128196],\n",
       "       [1085.62946521],\n",
       "       [1048.32242918],\n",
       "       [ 891.51645237],\n",
       "       [ 847.09168495]])"
      ]
     },
     "execution_count": 1006,
     "metadata": {},
     "output_type": "execute_result"
    }
   ],
   "source": [
    "true_predictions"
   ]
  },
  {
   "cell_type": "code",
   "execution_count": 1007,
   "metadata": {},
   "outputs": [
    {
     "data": {
      "text/html": [
       "<div>\n",
       "<style scoped>\n",
       "    .dataframe tbody tr th:only-of-type {\n",
       "        vertical-align: middle;\n",
       "    }\n",
       "\n",
       "    .dataframe tbody tr th {\n",
       "        vertical-align: top;\n",
       "    }\n",
       "\n",
       "    .dataframe thead th {\n",
       "        text-align: right;\n",
       "    }\n",
       "</style>\n",
       "<table border=\"1\" class=\"dataframe\">\n",
       "  <thead>\n",
       "    <tr style=\"text-align: right;\">\n",
       "      <th></th>\n",
       "      <th>PEOPLE_DEATH_NEW_COUNT</th>\n",
       "    </tr>\n",
       "    <tr>\n",
       "      <th>REPORT_DATE</th>\n",
       "      <th></th>\n",
       "    </tr>\n",
       "  </thead>\n",
       "  <tbody>\n",
       "    <tr>\n",
       "      <th>2021-04-12</th>\n",
       "      <td>465</td>\n",
       "    </tr>\n",
       "    <tr>\n",
       "      <th>2021-04-13</th>\n",
       "      <td>983</td>\n",
       "    </tr>\n",
       "    <tr>\n",
       "      <th>2021-04-14</th>\n",
       "      <td>935</td>\n",
       "    </tr>\n",
       "    <tr>\n",
       "      <th>2021-04-15</th>\n",
       "      <td>917</td>\n",
       "    </tr>\n",
       "    <tr>\n",
       "      <th>2021-04-16</th>\n",
       "      <td>934</td>\n",
       "    </tr>\n",
       "    <tr>\n",
       "      <th>2021-04-17</th>\n",
       "      <td>677</td>\n",
       "    </tr>\n",
       "    <tr>\n",
       "      <th>2021-04-18</th>\n",
       "      <td>358</td>\n",
       "    </tr>\n",
       "    <tr>\n",
       "      <th>2021-04-19</th>\n",
       "      <td>485</td>\n",
       "    </tr>\n",
       "    <tr>\n",
       "      <th>2021-04-20</th>\n",
       "      <td>1796</td>\n",
       "    </tr>\n",
       "    <tr>\n",
       "      <th>2021-04-21</th>\n",
       "      <td>125</td>\n",
       "    </tr>\n",
       "    <tr>\n",
       "      <th>2021-04-22</th>\n",
       "      <td>911</td>\n",
       "    </tr>\n",
       "    <tr>\n",
       "      <th>2021-04-23</th>\n",
       "      <td>873</td>\n",
       "    </tr>\n",
       "    <tr>\n",
       "      <th>2021-04-24</th>\n",
       "      <td>725</td>\n",
       "    </tr>\n",
       "    <tr>\n",
       "      <th>2021-04-25</th>\n",
       "      <td>282</td>\n",
       "    </tr>\n",
       "  </tbody>\n",
       "</table>\n",
       "</div>"
      ],
      "text/plain": [
       "             PEOPLE_DEATH_NEW_COUNT\n",
       "REPORT_DATE                        \n",
       "2021-04-12                      465\n",
       "2021-04-13                      983\n",
       "2021-04-14                      935\n",
       "2021-04-15                      917\n",
       "2021-04-16                      934\n",
       "2021-04-17                      677\n",
       "2021-04-18                      358\n",
       "2021-04-19                      485\n",
       "2021-04-20                     1796\n",
       "2021-04-21                      125\n",
       "2021-04-22                      911\n",
       "2021-04-23                      873\n",
       "2021-04-24                      725\n",
       "2021-04-25                      282"
      ]
     },
     "execution_count": 1007,
     "metadata": {},
     "output_type": "execute_result"
    }
   ],
   "source": [
    "test_usa_deaths"
   ]
  },
  {
   "cell_type": "code",
   "execution_count": 1008,
   "metadata": {},
   "outputs": [],
   "source": [
    "test_usa_deaths['Predictions'] = true_predictions"
   ]
  },
  {
   "cell_type": "code",
   "execution_count": 1009,
   "metadata": {},
   "outputs": [
    {
     "data": {
      "text/html": [
       "<div>\n",
       "<style scoped>\n",
       "    .dataframe tbody tr th:only-of-type {\n",
       "        vertical-align: middle;\n",
       "    }\n",
       "\n",
       "    .dataframe tbody tr th {\n",
       "        vertical-align: top;\n",
       "    }\n",
       "\n",
       "    .dataframe thead th {\n",
       "        text-align: right;\n",
       "    }\n",
       "</style>\n",
       "<table border=\"1\" class=\"dataframe\">\n",
       "  <thead>\n",
       "    <tr style=\"text-align: right;\">\n",
       "      <th></th>\n",
       "      <th>PEOPLE_DEATH_NEW_COUNT</th>\n",
       "      <th>Predictions</th>\n",
       "    </tr>\n",
       "    <tr>\n",
       "      <th>REPORT_DATE</th>\n",
       "      <th></th>\n",
       "      <th></th>\n",
       "    </tr>\n",
       "  </thead>\n",
       "  <tbody>\n",
       "    <tr>\n",
       "      <th>2021-04-12</th>\n",
       "      <td>465</td>\n",
       "      <td>749.653755</td>\n",
       "    </tr>\n",
       "    <tr>\n",
       "      <th>2021-04-13</th>\n",
       "      <td>983</td>\n",
       "      <td>1012.630062</td>\n",
       "    </tr>\n",
       "    <tr>\n",
       "      <th>2021-04-14</th>\n",
       "      <td>935</td>\n",
       "      <td>1773.080650</td>\n",
       "    </tr>\n",
       "    <tr>\n",
       "      <th>2021-04-15</th>\n",
       "      <td>917</td>\n",
       "      <td>1039.974342</td>\n",
       "    </tr>\n",
       "    <tr>\n",
       "      <th>2021-04-16</th>\n",
       "      <td>934</td>\n",
       "      <td>991.353389</td>\n",
       "    </tr>\n",
       "    <tr>\n",
       "      <th>2021-04-17</th>\n",
       "      <td>677</td>\n",
       "      <td>777.262683</td>\n",
       "    </tr>\n",
       "    <tr>\n",
       "      <th>2021-04-18</th>\n",
       "      <td>358</td>\n",
       "      <td>672.702504</td>\n",
       "    </tr>\n",
       "    <tr>\n",
       "      <th>2021-04-19</th>\n",
       "      <td>485</td>\n",
       "      <td>895.731117</td>\n",
       "    </tr>\n",
       "    <tr>\n",
       "      <th>2021-04-20</th>\n",
       "      <td>1796</td>\n",
       "      <td>1076.794332</td>\n",
       "    </tr>\n",
       "    <tr>\n",
       "      <th>2021-04-21</th>\n",
       "      <td>125</td>\n",
       "      <td>1413.421282</td>\n",
       "    </tr>\n",
       "    <tr>\n",
       "      <th>2021-04-22</th>\n",
       "      <td>911</td>\n",
       "      <td>1085.629465</td>\n",
       "    </tr>\n",
       "    <tr>\n",
       "      <th>2021-04-23</th>\n",
       "      <td>873</td>\n",
       "      <td>1048.322429</td>\n",
       "    </tr>\n",
       "    <tr>\n",
       "      <th>2021-04-24</th>\n",
       "      <td>725</td>\n",
       "      <td>891.516452</td>\n",
       "    </tr>\n",
       "    <tr>\n",
       "      <th>2021-04-25</th>\n",
       "      <td>282</td>\n",
       "      <td>847.091685</td>\n",
       "    </tr>\n",
       "  </tbody>\n",
       "</table>\n",
       "</div>"
      ],
      "text/plain": [
       "             PEOPLE_DEATH_NEW_COUNT  Predictions\n",
       "REPORT_DATE                                     \n",
       "2021-04-12                      465   749.653755\n",
       "2021-04-13                      983  1012.630062\n",
       "2021-04-14                      935  1773.080650\n",
       "2021-04-15                      917  1039.974342\n",
       "2021-04-16                      934   991.353389\n",
       "2021-04-17                      677   777.262683\n",
       "2021-04-18                      358   672.702504\n",
       "2021-04-19                      485   895.731117\n",
       "2021-04-20                     1796  1076.794332\n",
       "2021-04-21                      125  1413.421282\n",
       "2021-04-22                      911  1085.629465\n",
       "2021-04-23                      873  1048.322429\n",
       "2021-04-24                      725   891.516452\n",
       "2021-04-25                      282   847.091685"
      ]
     },
     "execution_count": 1009,
     "metadata": {},
     "output_type": "execute_result"
    }
   ],
   "source": [
    "test_usa_deaths"
   ]
  },
  {
   "cell_type": "code",
   "execution_count": 1010,
   "metadata": {},
   "outputs": [
    {
     "data": {
      "text/plain": [
       "<AxesSubplot:xlabel='REPORT_DATE'>"
      ]
     },
     "execution_count": 1010,
     "metadata": {},
     "output_type": "execute_result"
    },
    {
     "data": {
      "image/png": "[encoded data removed]",
      "text/plain": [
       "<Figure size 864x576 with 1 Axes>"
      ]
     },
     "metadata": {
      "needs_background": "light"
     },
     "output_type": "display_data"
    }
   ],
   "source": [
    "test_usa_deaths.plot(figsize=(12,8))"
   ]
  }
 ],
 "metadata": {
  "kernelspec": {
   "display_name": "Python 3",
   "language": "python",
   "name": "python3"
  },
  "language_info": {
   "codemirror_mode": {
    "name": "ipython",
    "version": 3
   },
   "file_extension": ".py",
   "mimetype": "text/x-python",
   "name": "python",
   "nbconvert_exporter": "python",
   "pygments_lexer": "ipython3",
   "version": "3.8.5"
  }
 },
 "nbformat": 4,
 "nbformat_minor": 4
}
